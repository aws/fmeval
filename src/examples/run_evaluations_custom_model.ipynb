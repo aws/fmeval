{
 "cells": [
  {
   "cell_type": "code",
   "execution_count": 1,
   "outputs": [],
   "source": [
    "import warnings\n",
    "from dataclasses import dataclass\n",
    "from typing import Tuple, Optional\n",
    "\n",
    "import torch\n",
    "from transformers import GenerationConfig, AutoModelForCausalLM, AutoTokenizer\n",
    "\n",
    "from amazon_fmeval.model_runners.model_runner import ModelRunner\n",
    "from amazon_fmeval.eval_algo_mapping import get_eval_algorithm\n",
    "from amazon_fmeval.eval_algorithms.factual_knowledge import FactualKnowledgeConfig"
   ],
   "metadata": {
    "collapsed": false,
    "ExecuteTime": {
     "end_time": "2023-10-11T03:02:29.179237Z",
     "start_time": "2023-10-11T03:02:24.810154Z"
    }
   }
  },
  {
   "cell_type": "code",
   "execution_count": 2,
   "metadata": {
    "collapsed": true,
    "ExecuteTime": {
     "end_time": "2023-10-11T03:02:33.785522Z",
     "start_time": "2023-10-11T03:02:29.180128Z"
    }
   },
   "outputs": [
    {
     "name": "stderr",
     "output_type": "stream",
     "text": [
      "/Users/xiayche/.virtualenvs/fmeval/lib/python3.11/site-packages/transformers/generation/utils.py:1260: UserWarning: Using the model-agnostic default `max_length` (=20) to control thegeneration length. We recommend setting `max_new_tokens` to control the maximum length of the generation.\n",
      "  warnings.warn(\n"
     ]
    },
    {
     "name": "stdout",
     "output_type": "stream",
     "text": [
      "('\\n\\nThe answer is yes.\\n\\nThe city is the capital', -5.30952787399292)\n"
     ]
    }
   ],
   "source": [
    "@dataclass\n",
    "class HFModelConfig:\n",
    "\tmodel_name: str\n",
    "\tgeneration_config: GenerationConfig\n",
    "\tnormalize_probabilities: bool = False\n",
    "\tseed: int = 0\n",
    "\tremove_prompt_from_generated_text: bool = True\n",
    "\n",
    "\n",
    "class HuggingFaceCausalLLMModelRunner(ModelRunner):\n",
    "\n",
    "\tdef __init__(self, model_config: HFModelConfig):\n",
    "\t\tself.config = model_config\n",
    "\t\tself.model = AutoModelForCausalLM.from_pretrained(self.config.model_name)\n",
    "\t\tself.tokenizer = AutoTokenizer.from_pretrained(self.config.model_name)\n",
    "\n",
    "\tdef predict(self, prompt: str) -> Tuple[Optional[str], Optional[float]]:\n",
    "\t\tinput_ids = self.tokenizer(prompt, return_tensors=\"pt\").to(self.model.device)\n",
    "\t\tgenerations = self.model.generate(\n",
    "\t\t\t**input_ids,\n",
    "\t\t\tmax_new_tokens=self.config.generation_config.max_new_tokens,\n",
    "\t\t\tpad_token_id=self.tokenizer.eos_token_id,\n",
    "\t\t\tgeneration_config=self.config.generation_config,\n",
    "\t\t)\n",
    "\t\tgeneration_contains_input = (\n",
    "\t\t\tinput_ids[\"input_ids\"][0] == generations[0][: input_ids[\"input_ids\"].shape[1]]\n",
    "\t\t).all()\n",
    "\t\tif self.config.remove_prompt_from_generated_text and not generation_contains_input:\n",
    "\t\t\twarnings.warn(\n",
    "\t\t\t\"Your model does not return the prompt as part of its generations. \"\n",
    "\t\t\t\"`remove_prompt_from_generated_text` does nothing.\"\n",
    "\t\t\t)\n",
    "\t\tif self.config.remove_prompt_from_generated_text and generation_contains_input:\n",
    "\t\t\toutput = self.tokenizer.batch_decode(generations[:, input_ids[\"input_ids\"].shape[1]:])[0]\n",
    "\t\telse:\n",
    "\t\t\toutput = self.tokenizer.batch_decode(generations, skip_special_tokens=True)[0]\n",
    "\n",
    "\t\twith torch.inference_mode():\n",
    "\t\t\tinput_ids = self.tokenizer(self.tokenizer.bos_token + prompt, return_tensors=\"pt\")[\"input_ids\"]\n",
    "\t\t\tmodel_output = self.model(input_ids, labels=input_ids)\n",
    "\t\t\tprobability = -model_output[0].item()\n",
    "\n",
    "\t\treturn output, probability\n",
    "\n",
    "\n",
    "# Test with gpt2\n",
    "generation_config = GenerationConfig()\n",
    "model_config = {\"model_name\": \"gpt2\", \"generation_config\": generation_config}\n",
    "hf_config = HFModelConfig(**model_config)\n",
    "model = HuggingFaceCausalLLMModelRunner(model_config=hf_config)\n",
    "print(model.predict(\"London is the capital of?\"))\n",
    "\n",
    "# Test with facebook/bart-large-cnn\n",
    "# generation_config = GenerationConfig(\n",
    "#         max_new_tokens=40,\n",
    "#         do_sample=True,\n",
    "#         top_k=50,\n",
    "#         top_p=0.9,\n",
    "#     )\n",
    "# hf_config = HFModelConfig(model_name=\"facebook/bart-large-cnn\", generation_config=generation_config)\n",
    "# model = HuggingFaceCausalLLMModelRunner(model_config=hf_config)\n",
    "# print(model.predict(\n",
    "#     \"Summarize the following article in 2 sentences: The art metropolis of Berlin inspires locals and visitors with \"\n",
    "#     \"its famous museum landscape and numerous UNESCO World Heritage sites. It is also an international exhibition \"\n",
    "#     \"venue. You will find a selection of current and upcoming exhibitions here.\"))"
   ]
  },
  {
   "cell_type": "code",
   "execution_count": 3,
   "outputs": [],
   "source": [
    "# Evaluate factual_knowledge\n",
    "eval_algorithm_config = FactualKnowledgeConfig(\"<OR>\")\n",
    "eval_algo = get_eval_algorithm(\"factual_knowledge\")(eval_algorithm_config)"
   ],
   "metadata": {
    "collapsed": false,
    "ExecuteTime": {
     "end_time": "2023-10-11T03:02:33.794547Z",
     "start_time": "2023-10-11T03:02:33.783188Z"
    }
   }
  },
  {
   "cell_type": "code",
   "execution_count": 4,
   "outputs": [
    {
     "name": "stdout",
     "output_type": "stream",
     "text": [
      "\n",
      "\n",
      "The answer is yes.\n",
      "\n",
      "The city is the capital\n"
     ]
    },
    {
     "data": {
      "text/plain": "[EvalScore(name='factual_knowledge', value=0)]"
     },
     "execution_count": 4,
     "metadata": {},
     "output_type": "execute_result"
    }
   ],
   "source": [
    "# Evaluate your custom sample\n",
    "model_output = model.predict(\"London is the capital of?\")[0]\n",
    "print(model_output)\n",
    "eval_algo.evaluate_sample(target_output=\"UK<OR>England<OR>United Kingdom\", model_output=model_output)"
   ],
   "metadata": {
    "collapsed": false,
    "ExecuteTime": {
     "end_time": "2023-10-11T03:02:34.218913Z",
     "start_time": "2023-10-11T03:02:33.788821Z"
    }
   }
  },
  {
   "cell_type": "code",
   "execution_count": 5,
   "outputs": [
    {
     "name": "stdout",
     "output_type": "stream",
     "text": [
      "huggingface/tokenizers: The current process just got forked, after parallelism has already been used. Disabling parallelism to avoid deadlocks...\n",
      "To disable this warning, you can either:\n",
      "\t- Avoid using `tokenizers` before the fork if possible\n",
      "\t- Explicitly set the environment variable TOKENIZERS_PARALLELISM=(true | false)\n",
      "huggingface/tokenizers: The current process just got forked, after parallelism has already been used. Disabling parallelism to avoid deadlocks...\n",
      "To disable this warning, you can either:\n",
      "\t- Avoid using `tokenizers` before the fork if possible\n",
      "\t- Explicitly set the environment variable TOKENIZERS_PARALLELISM=(true | false)\n",
      "huggingface/tokenizers: The current process just got forked, after parallelism has already been used. Disabling parallelism to avoid deadlocks...\n",
      "To disable this warning, you can either:\n",
      "\t- Avoid using `tokenizers` before the fork if possible\n",
      "\t- Explicitly set the environment variable TOKENIZERS_PARALLELISM=(true | false)\n",
      "huggingface/tokenizers: The current process just got forked, after parallelism has already been used. Disabling parallelism to avoid deadlocks...\n",
      "To disable this warning, you can either:\n",
      "\t- Avoid using `tokenizers` before the fork if possible\n",
      "\t- Explicitly set the environment variable TOKENIZERS_PARALLELISM=(true | false)\n"
     ]
    },
    {
     "name": "stderr",
     "output_type": "stream",
     "text": [
      "2023-10-10 20:02:36,335\tINFO worker.py:1621 -- Started a local Ray instance.\n"
     ]
    },
    {
     "name": "stdout",
     "output_type": "stream",
     "text": [
      "huggingface/tokenizers: The current process just got forked, after parallelism has already been used. Disabling parallelism to avoid deadlocks...\n",
      "To disable this warning, you can either:\n",
      "\t- Avoid using `tokenizers` before the fork if possible\n",
      "\t- Explicitly set the environment variable TOKENIZERS_PARALLELISM=(true | false)\n",
      "huggingface/tokenizers: The current process just got forked, after parallelism has already been used. Disabling parallelism to avoid deadlocks...\n",
      "To disable this warning, you can either:\n",
      "\t- Avoid using `tokenizers` before the fork if possible\n",
      "\t- Explicitly set the environment variable TOKENIZERS_PARALLELISM=(true | false)\n"
     ]
    },
    {
     "name": "stderr",
     "output_type": "stream",
     "text": [
      "2023-10-10 20:02:42,760\tINFO read_api.py:374 -- To satisfy the requested parallelism of 20, each read task output will be split into 20 smaller blocks.\n",
      "2023-10-10 20:02:43,675\tINFO dataset.py:2180 -- Tip: Use `take_batch()` instead of `take() / show()` to return records in pandas or numpy batch format.\n",
      "2023-10-10 20:02:43,677\tINFO streaming_executor.py:92 -- Executing DAG InputDataBuffer[Input] -> TaskPoolMapOperator[ReadCustomJSON->SplitBlocks(20)] -> TaskPoolMapOperator[MapBatches(process_batch)->Map(_generate_model_predict_response_columns)->MapBatches(process_batch)] -> AllToAllOperator[Aggregate]\n",
      "2023-10-10 20:02:43,677\tINFO streaming_executor.py:93 -- Execution config: ExecutionOptions(resource_limits=ExecutionResources(cpu=None, gpu=None, object_store_memory=None), locality_with_output=False, preserve_order=False, actor_locality_enabled=True, verbose_progress=False)\n",
      "2023-10-10 20:02:43,678\tINFO streaming_executor.py:95 -- Tip: For detailed progress reporting, run `ray.data.DataContext.get_current().execution_options.verbose_progress = True`\n"
     ]
    },
    {
     "name": "stdout",
     "output_type": "stream",
     "text": [
      "huggingface/tokenizers: The current process just got forked, after parallelism has already been used. Disabling parallelism to avoid deadlocks...\n",
      "To disable this warning, you can either:\n",
      "\t- Avoid using `tokenizers` before the fork if possible\n",
      "\t- Explicitly set the environment variable TOKENIZERS_PARALLELISM=(true | false)\n"
     ]
    },
    {
     "data": {
      "text/plain": "- Aggregate 1:   0%|          | 0/20 [00:00<?, ?it/s]",
      "application/vnd.jupyter.widget-view+json": {
       "version_major": 2,
       "version_minor": 0,
       "model_id": "17f6eacbcca648e381976d2b5a4ec443"
      }
     },
     "metadata": {},
     "output_type": "display_data"
    },
    {
     "data": {
      "text/plain": "Shuffle Map 2:   0%|          | 0/20 [00:00<?, ?it/s]",
      "application/vnd.jupyter.widget-view+json": {
       "version_major": 2,
       "version_minor": 0,
       "model_id": "5d825d5b9a794fb18e2a42473e415afc"
      }
     },
     "metadata": {},
     "output_type": "display_data"
    },
    {
     "data": {
      "text/plain": "Shuffle Reduce 3:   0%|          | 0/20 [00:00<?, ?it/s]",
      "application/vnd.jupyter.widget-view+json": {
       "version_major": 2,
       "version_minor": 0,
       "model_id": "cbe033e8ccbf4b01855c1bfc8cd4b558"
      }
     },
     "metadata": {},
     "output_type": "display_data"
    },
    {
     "data": {
      "text/plain": "Running 0:   0%|          | 0/20 [00:00<?, ?it/s]",
      "application/vnd.jupyter.widget-view+json": {
       "version_major": 2,
       "version_minor": 0,
       "model_id": "547357954a3d492a916f118a54875d7d"
      }
     },
     "metadata": {},
     "output_type": "display_data"
    },
    {
     "name": "stderr",
     "output_type": "stream",
     "text": [
      "\u001B[2m\u001B[36m(MapBatches(process_batch)->Map(_generate_model_predict_response_columns)->MapBatches(process_batch) pid=82599)\u001B[0m /Users/xiayche/.virtualenvs/fmeval/lib/python3.11/site-packages/transformers/generation/utils.py:1260: UserWarning: Using the model-agnostic default `max_length` (=20) to control thegeneration length. We recommend setting `max_new_tokens` to control the maximum length of the generation.\n",
      "\u001B[2m\u001B[36m(MapBatches(process_batch)->Map(_generate_model_predict_response_columns)->MapBatches(process_batch) pid=82599)\u001B[0m   warnings.warn(\n",
      "\u001B[2m\u001B[36m(MapBatches(process_batch)->Map(_generate_model_predict_response_columns)->MapBatches(process_batch) pid=82592)\u001B[0m /Users/xiayche/.virtualenvs/fmeval/lib/python3.11/site-packages/transformers/generation/utils.py:1260: UserWarning: Using the model-agnostic default `max_length` (=20) to control thegeneration length. We recommend setting `max_new_tokens` to control the maximum length of the generation.\u001B[32m [repeated 10x across cluster] (Ray deduplicates logs by default. Set RAY_DEDUP_LOGS=0 to disable log deduplication, or see https://docs.ray.io/en/master/ray-observability/ray-logging.html#log-deduplication for more options.)\u001B[0m\n",
      "\u001B[2m\u001B[36m(MapBatches(process_batch)->Map(_generate_model_predict_response_columns)->MapBatches(process_batch) pid=82592)\u001B[0m   warnings.warn(\u001B[32m [repeated 10x across cluster]\u001B[0m\n",
      "\u001B[2m\u001B[36m(MapBatches(process_batch)->Map(_generate_model_predict_response_columns)->MapBatches(process_batch) pid=82598)\u001B[0m /Users/xiayche/.virtualenvs/fmeval/lib/python3.11/site-packages/transformers/generation/utils.py:1260: UserWarning: Using the model-agnostic default `max_length` (=20) to control thegeneration length. We recommend setting `max_new_tokens` to control the maximum length of the generation.\u001B[32m [repeated 2x across cluster]\u001B[0m\n",
      "\u001B[2m\u001B[36m(MapBatches(process_batch)->Map(_generate_model_predict_response_columns)->MapBatches(process_batch) pid=82598)\u001B[0m   warnings.warn(\u001B[32m [repeated 2x across cluster]\u001B[0m\n",
      "\u001B[2m\u001B[36m(MapBatches(process_batch)->Map(_generate_model_predict_response_columns)->MapBatches(process_batch) pid=82601)\u001B[0m /Users/xiayche/.virtualenvs/fmeval/lib/python3.11/site-packages/transformers/generation/utils.py:1260: UserWarning: Using the model-agnostic default `max_length` (=20) to control thegeneration length. We recommend setting `max_new_tokens` to control the maximum length of the generation.\u001B[32m [repeated 3x across cluster]\u001B[0m\n",
      "\u001B[2m\u001B[36m(MapBatches(process_batch)->Map(_generate_model_predict_response_columns)->MapBatches(process_batch) pid=82601)\u001B[0m   warnings.warn(\u001B[32m [repeated 3x across cluster]\u001B[0m\n",
      "2023-10-10 20:04:25,482\tINFO streaming_executor.py:92 -- Executing DAG InputDataBuffer[Input] -> TaskPoolMapOperator[ReadCustomJSON->SplitBlocks(20)] -> TaskPoolMapOperator[MapBatches(process_batch)->Map(_generate_model_predict_response_columns)->MapBatches(process_batch)] -> LimitOperator[limit=1]\n",
      "2023-10-10 20:04:25,484\tINFO streaming_executor.py:93 -- Execution config: ExecutionOptions(resource_limits=ExecutionResources(cpu=None, gpu=None, object_store_memory=None), locality_with_output=False, preserve_order=False, actor_locality_enabled=True, verbose_progress=False)\n",
      "2023-10-10 20:04:25,485\tINFO streaming_executor.py:95 -- Tip: For detailed progress reporting, run `ray.data.DataContext.get_current().execution_options.verbose_progress = True`\n"
     ]
    },
    {
     "data": {
      "text/plain": "Running 0:   0%|          | 0/1 [00:00<?, ?it/s]",
      "application/vnd.jupyter.widget-view+json": {
       "version_major": 2,
       "version_minor": 0,
       "model_id": "75b7bfe482214516be667886a95e0918"
      }
     },
     "metadata": {},
     "output_type": "display_data"
    },
    {
     "name": "stderr",
     "output_type": "stream",
     "text": [
      "\u001B[2m\u001B[36m(MapBatches(process_batch)->Map(_generate_model_predict_response_columns)->MapBatches(process_batch) pid=82598)\u001B[0m /Users/xiayche/.virtualenvs/fmeval/lib/python3.11/site-packages/transformers/generation/utils.py:1260: UserWarning: Using the model-agnostic default `max_length` (=20) to control thegeneration length. We recommend setting `max_new_tokens` to control the maximum length of the generation.\u001B[32m [repeated 5x across cluster]\u001B[0m\n",
      "\u001B[2m\u001B[36m(MapBatches(process_batch)->Map(_generate_model_predict_response_columns)->MapBatches(process_batch) pid=82598)\u001B[0m   warnings.warn(\u001B[32m [repeated 5x across cluster]\u001B[0m\n",
      "2023-10-10 20:05:13,442\tINFO streaming_executor.py:92 -- Executing DAG InputDataBuffer[Input] -> TaskPoolMapOperator[ReadCustomJSON->SplitBlocks(20)] -> TaskPoolMapOperator[MapBatches(process_batch)->Map(_generate_model_predict_response_columns)->MapBatches(process_batch)] -> AllToAllOperator[Aggregate] -> TaskPoolMapOperator[MapBatches(<lambda>)]\n",
      "2023-10-10 20:05:13,444\tINFO streaming_executor.py:93 -- Execution config: ExecutionOptions(resource_limits=ExecutionResources(cpu=None, gpu=None, object_store_memory=None), locality_with_output=False, preserve_order=False, actor_locality_enabled=True, verbose_progress=False)\n",
      "2023-10-10 20:05:13,445\tINFO streaming_executor.py:95 -- Tip: For detailed progress reporting, run `ray.data.DataContext.get_current().execution_options.verbose_progress = True`\n"
     ]
    },
    {
     "data": {
      "text/plain": "- Aggregate 1:   0%|          | 0/20 [00:00<?, ?it/s]",
      "application/vnd.jupyter.widget-view+json": {
       "version_major": 2,
       "version_minor": 0,
       "model_id": "1623956c463644f2ab6d5cb82c274d32"
      }
     },
     "metadata": {},
     "output_type": "display_data"
    },
    {
     "data": {
      "text/plain": "Shuffle Map 2:   0%|          | 0/20 [00:00<?, ?it/s]",
      "application/vnd.jupyter.widget-view+json": {
       "version_major": 2,
       "version_minor": 0,
       "model_id": "7d78b85ee1ef498394289c7d0a957baf"
      }
     },
     "metadata": {},
     "output_type": "display_data"
    },
    {
     "data": {
      "text/plain": "Shuffle Reduce 3:   0%|          | 0/20 [00:00<?, ?it/s]",
      "application/vnd.jupyter.widget-view+json": {
       "version_major": 2,
       "version_minor": 0,
       "model_id": "45c9043dcbde47b8b4a1d7906ad0dc56"
      }
     },
     "metadata": {},
     "output_type": "display_data"
    },
    {
     "data": {
      "text/plain": "Running 0:   0%|          | 0/20 [00:00<?, ?it/s]",
      "application/vnd.jupyter.widget-view+json": {
       "version_major": 2,
       "version_minor": 0,
       "model_id": "adff69e69d4c4c9f9c8259d301bc17c9"
      }
     },
     "metadata": {},
     "output_type": "display_data"
    },
    {
     "name": "stderr",
     "output_type": "stream",
     "text": [
      "\u001B[2m\u001B[36m(MapBatches(process_batch)->Map(_generate_model_predict_response_columns)->MapBatches(process_batch) pid=82593)\u001B[0m /Users/xiayche/.virtualenvs/fmeval/lib/python3.11/site-packages/transformers/generation/utils.py:1260: UserWarning: Using the model-agnostic default `max_length` (=20) to control thegeneration length. We recommend setting `max_new_tokens` to control the maximum length of the generation.\u001B[32m [repeated 10x across cluster]\u001B[0m\n",
      "\u001B[2m\u001B[36m(MapBatches(process_batch)->Map(_generate_model_predict_response_columns)->MapBatches(process_batch) pid=82593)\u001B[0m   warnings.warn(\u001B[32m [repeated 10x across cluster]\u001B[0m\n",
      "\u001B[2m\u001B[36m(MapBatches(process_batch)->Map(_generate_model_predict_response_columns)->MapBatches(process_batch) pid=82598)\u001B[0m /Users/xiayche/.virtualenvs/fmeval/lib/python3.11/site-packages/transformers/generation/utils.py:1260: UserWarning: Using the model-agnostic default `max_length` (=20) to control thegeneration length. We recommend setting `max_new_tokens` to control the maximum length of the generation.\u001B[32m [repeated 10x across cluster]\u001B[0m\n",
      "\u001B[2m\u001B[36m(MapBatches(process_batch)->Map(_generate_model_predict_response_columns)->MapBatches(process_batch) pid=82598)\u001B[0m   warnings.warn(\u001B[32m [repeated 10x across cluster]\u001B[0m\n"
     ]
    },
    {
     "data": {
      "text/plain": "Sort Sample 0:   0%|          | 0/20 [00:00<?, ?it/s]",
      "application/vnd.jupyter.widget-view+json": {
       "version_major": 2,
       "version_minor": 0,
       "model_id": "1132a6db0a924999a20256389a6aba1e"
      }
     },
     "metadata": {},
     "output_type": "display_data"
    },
    {
     "name": "stderr",
     "output_type": "stream",
     "text": [
      "2023-10-10 20:06:42,124\tINFO streaming_executor.py:92 -- Executing DAG InputDataBuffer[Input] -> TaskPoolMapOperator[ReadCustomJSON->SplitBlocks(20)] -> TaskPoolMapOperator[MapBatches(process_batch)->Map(_generate_model_predict_response_columns)->MapBatches(process_batch)] -> AllToAllOperator[Aggregate]\n",
      "2023-10-10 20:06:42,126\tINFO streaming_executor.py:93 -- Execution config: ExecutionOptions(resource_limits=ExecutionResources(cpu=None, gpu=None, object_store_memory=None), locality_with_output=False, preserve_order=False, actor_locality_enabled=True, verbose_progress=False)\n",
      "2023-10-10 20:06:42,126\tINFO streaming_executor.py:95 -- Tip: For detailed progress reporting, run `ray.data.DataContext.get_current().execution_options.verbose_progress = True`\n"
     ]
    },
    {
     "data": {
      "text/plain": "- Aggregate 1:   0%|          | 0/20 [00:00<?, ?it/s]",
      "application/vnd.jupyter.widget-view+json": {
       "version_major": 2,
       "version_minor": 0,
       "model_id": "b2b6e82293694be99d00b84e6452cbd9"
      }
     },
     "metadata": {},
     "output_type": "display_data"
    },
    {
     "data": {
      "text/plain": "Shuffle Map 2:   0%|          | 0/20 [00:00<?, ?it/s]",
      "application/vnd.jupyter.widget-view+json": {
       "version_major": 2,
       "version_minor": 0,
       "model_id": "4f3d0da08ff14dc7a5e26c05cc6e6112"
      }
     },
     "metadata": {},
     "output_type": "display_data"
    },
    {
     "data": {
      "text/plain": "Shuffle Reduce 3:   0%|          | 0/20 [00:00<?, ?it/s]",
      "application/vnd.jupyter.widget-view+json": {
       "version_major": 2,
       "version_minor": 0,
       "model_id": "dd00a939833a4b14a57fe91e04773fd6"
      }
     },
     "metadata": {},
     "output_type": "display_data"
    },
    {
     "data": {
      "text/plain": "Running 0:   0%|          | 0/20 [00:00<?, ?it/s]",
      "application/vnd.jupyter.widget-view+json": {
       "version_major": 2,
       "version_minor": 0,
       "model_id": "46c1ac60c41b470aa95ac8697f2d39c9"
      }
     },
     "metadata": {},
     "output_type": "display_data"
    },
    {
     "name": "stderr",
     "output_type": "stream",
     "text": [
      "\u001B[2m\u001B[36m(MapBatches(process_batch)->Map(_generate_model_predict_response_columns)->MapBatches(process_batch) pid=82596)\u001B[0m /Users/xiayche/.virtualenvs/fmeval/lib/python3.11/site-packages/transformers/generation/utils.py:1260: UserWarning: Using the model-agnostic default `max_length` (=20) to control thegeneration length. We recommend setting `max_new_tokens` to control the maximum length of the generation.\u001B[32m [repeated 10x across cluster]\u001B[0m\n",
      "\u001B[2m\u001B[36m(MapBatches(process_batch)->Map(_generate_model_predict_response_columns)->MapBatches(process_batch) pid=82596)\u001B[0m   warnings.warn(\u001B[32m [repeated 10x across cluster]\u001B[0m\n",
      "\u001B[2m\u001B[36m(MapBatches(process_batch)->Map(_generate_model_predict_response_columns)->MapBatches(process_batch) pid=82592)\u001B[0m /Users/xiayche/.virtualenvs/fmeval/lib/python3.11/site-packages/transformers/generation/utils.py:1260: UserWarning: Using the model-agnostic default `max_length` (=20) to control thegeneration length. We recommend setting `max_new_tokens` to control the maximum length of the generation.\u001B[32m [repeated 10x across cluster]\u001B[0m\n",
      "\u001B[2m\u001B[36m(MapBatches(process_batch)->Map(_generate_model_predict_response_columns)->MapBatches(process_batch) pid=82592)\u001B[0m   warnings.warn(\u001B[32m [repeated 10x across cluster]\u001B[0m\n",
      "\u001B[2m\u001B[36m(MapBatches(process_batch)->Map(_generate_model_predict_response_columns)->MapBatches(process_batch) pid=82599)\u001B[0m /Users/xiayche/.virtualenvs/fmeval/lib/python3.11/site-packages/transformers/generation/utils.py:1260: UserWarning: Using the model-agnostic default `max_length` (=20) to control thegeneration length. We recommend setting `max_new_tokens` to control the maximum length of the generation.\u001B[32m [repeated 9x across cluster]\u001B[0m\n",
      "\u001B[2m\u001B[36m(MapBatches(process_batch)->Map(_generate_model_predict_response_columns)->MapBatches(process_batch) pid=82599)\u001B[0m   warnings.warn(\u001B[32m [repeated 9x across cluster]\u001B[0m\n"
     ]
    },
    {
     "data": {
      "text/plain": "Sort Sample 0:   0%|          | 0/20 [00:00<?, ?it/s]",
      "application/vnd.jupyter.widget-view+json": {
       "version_major": 2,
       "version_minor": 0,
       "model_id": "fdc6c31f5fa7431d8c932d62b7a458fc"
      }
     },
     "metadata": {},
     "output_type": "display_data"
    },
    {
     "name": "stderr",
     "output_type": "stream",
     "text": [
      "2023-10-10 20:08:26,766\tINFO streaming_executor.py:92 -- Executing DAG InputDataBuffer[Input] -> TaskPoolMapOperator[ReadCustomJSON->SplitBlocks(20)] -> TaskPoolMapOperator[MapBatches(process_batch)->Map(_generate_model_predict_response_columns)->MapBatches(process_batch)->Map(<lambda>)]\n",
      "2023-10-10 20:08:26,768\tINFO streaming_executor.py:93 -- Execution config: ExecutionOptions(resource_limits=ExecutionResources(cpu=None, gpu=None, object_store_memory=None), locality_with_output=False, preserve_order=False, actor_locality_enabled=True, verbose_progress=False)\n",
      "2023-10-10 20:08:26,769\tINFO streaming_executor.py:95 -- Tip: For detailed progress reporting, run `ray.data.DataContext.get_current().execution_options.verbose_progress = True`\n"
     ]
    },
    {
     "data": {
      "text/plain": "Running 0:   0%|          | 0/20 [00:00<?, ?it/s]",
      "application/vnd.jupyter.widget-view+json": {
       "version_major": 2,
       "version_minor": 0,
       "model_id": "6610ddeaf6814155ad57b3bdb7d06462"
      }
     },
     "metadata": {},
     "output_type": "display_data"
    },
    {
     "name": "stderr",
     "output_type": "stream",
     "text": [
      "\u001B[2m\u001B[36m(MapBatches(process_batch)->Map(_generate_model_predict_response_columns)->MapBatches(process_batch)->Map(<lambda>) pid=82599)\u001B[0m /Users/xiayche/.virtualenvs/fmeval/lib/python3.11/site-packages/transformers/generation/utils.py:1260: UserWarning: Using the model-agnostic default `max_length` (=20) to control thegeneration length. We recommend setting `max_new_tokens` to control the maximum length of the generation.\n",
      "\u001B[2m\u001B[36m(MapBatches(process_batch)->Map(_generate_model_predict_response_columns)->MapBatches(process_batch)->Map(<lambda>) pid=82599)\u001B[0m   warnings.warn(\n",
      "\u001B[2m\u001B[36m(MapBatches(process_batch)->Map(_generate_model_predict_response_columns)->MapBatches(process_batch)->Map(<lambda>) pid=82596)\u001B[0m /Users/xiayche/.virtualenvs/fmeval/lib/python3.11/site-packages/transformers/generation/utils.py:1260: UserWarning: Using the model-agnostic default `max_length` (=20) to control thegeneration length. We recommend setting `max_new_tokens` to control the maximum length of the generation.\n",
      "\u001B[2m\u001B[36m(MapBatches(process_batch)->Map(_generate_model_predict_response_columns)->MapBatches(process_batch)->Map(<lambda>) pid=82596)\u001B[0m   warnings.warn(\n",
      "\u001B[2m\u001B[36m(MapBatches(process_batch)->Map(_generate_model_predict_response_columns)->MapBatches(process_batch)->Map(<lambda>) pid=82595)\u001B[0m /Users/xiayche/.virtualenvs/fmeval/lib/python3.11/site-packages/transformers/generation/utils.py:1260: UserWarning: Using the model-agnostic default `max_length` (=20) to control thegeneration length. We recommend setting `max_new_tokens` to control the maximum length of the generation.\u001B[32m [repeated 9x across cluster]\u001B[0m\n",
      "\u001B[2m\u001B[36m(MapBatches(process_batch)->Map(_generate_model_predict_response_columns)->MapBatches(process_batch)->Map(<lambda>) pid=82595)\u001B[0m   warnings.warn(\u001B[32m [repeated 9x across cluster]\u001B[0m\n",
      "\u001B[2m\u001B[36m(MapBatches(process_batch)->Map(_generate_model_predict_response_columns)->MapBatches(process_batch)->Map(<lambda>) pid=82596)\u001B[0m /Users/xiayche/.virtualenvs/fmeval/lib/python3.11/site-packages/transformers/generation/utils.py:1260: UserWarning: Using the model-agnostic default `max_length` (=20) to control thegeneration length. We recommend setting `max_new_tokens` to control the maximum length of the generation.\u001B[32m [repeated 4x across cluster]\u001B[0m\n",
      "\u001B[2m\u001B[36m(MapBatches(process_batch)->Map(_generate_model_predict_response_columns)->MapBatches(process_batch)->Map(<lambda>) pid=82596)\u001B[0m   warnings.warn(\u001B[32m [repeated 4x across cluster]\u001B[0m\n",
      "2023-10-10 20:10:00,330\tINFO streaming_executor.py:92 -- Executing DAG InputDataBuffer[Input] -> TaskPoolMapOperator[ReadCustomJSON->SplitBlocks(20)] -> TaskPoolMapOperator[MapBatches(process_batch)->Map(_generate_model_predict_response_columns)->MapBatches(process_batch)->Map(<lambda>)]\n",
      "2023-10-10 20:10:00,334\tINFO streaming_executor.py:93 -- Execution config: ExecutionOptions(resource_limits=ExecutionResources(cpu=None, gpu=None, object_store_memory=None), locality_with_output=False, preserve_order=False, actor_locality_enabled=True, verbose_progress=False)\n",
      "2023-10-10 20:10:00,337\tINFO streaming_executor.py:95 -- Tip: For detailed progress reporting, run `ray.data.DataContext.get_current().execution_options.verbose_progress = True`\n"
     ]
    },
    {
     "data": {
      "text/plain": "Running 0:   0%|          | 0/20 [00:00<?, ?it/s]",
      "application/vnd.jupyter.widget-view+json": {
       "version_major": 2,
       "version_minor": 0,
       "model_id": "c2c0a86b3f3f480e9024c9f8340c7e26"
      }
     },
     "metadata": {},
     "output_type": "display_data"
    },
    {
     "name": "stderr",
     "output_type": "stream",
     "text": [
      "\u001B[2m\u001B[36m(MapBatches(process_batch)->Map(_generate_model_predict_response_columns)->MapBatches(process_batch)->Map(<lambda>) pid=82599)\u001B[0m /Users/xiayche/.virtualenvs/fmeval/lib/python3.11/site-packages/transformers/generation/utils.py:1260: UserWarning: Using the model-agnostic default `max_length` (=20) to control thegeneration length. We recommend setting `max_new_tokens` to control the maximum length of the generation.\u001B[32m [repeated 6x across cluster]\u001B[0m\n",
      "\u001B[2m\u001B[36m(MapBatches(process_batch)->Map(_generate_model_predict_response_columns)->MapBatches(process_batch)->Map(<lambda>) pid=82599)\u001B[0m   warnings.warn(\u001B[32m [repeated 6x across cluster]\u001B[0m\n",
      "\u001B[2m\u001B[36m(MapBatches(process_batch)->Map(_generate_model_predict_response_columns)->MapBatches(process_batch)->Map(<lambda>) pid=82598)\u001B[0m /Users/xiayche/.virtualenvs/fmeval/lib/python3.11/site-packages/transformers/generation/utils.py:1260: UserWarning: Using the model-agnostic default `max_length` (=20) to control thegeneration length. We recommend setting `max_new_tokens` to control the maximum length of the generation.\u001B[32m [repeated 10x across cluster]\u001B[0m\n",
      "\u001B[2m\u001B[36m(MapBatches(process_batch)->Map(_generate_model_predict_response_columns)->MapBatches(process_batch)->Map(<lambda>) pid=82598)\u001B[0m   warnings.warn(\u001B[32m [repeated 10x across cluster]\u001B[0m\n",
      "\u001B[2m\u001B[36m(MapBatches(process_batch)->Map(_generate_model_predict_response_columns)->MapBatches(process_batch)->Map(<lambda>) pid=82597)\u001B[0m /Users/xiayche/.virtualenvs/fmeval/lib/python3.11/site-packages/transformers/generation/utils.py:1260: UserWarning: Using the model-agnostic default `max_length` (=20) to control thegeneration length. We recommend setting `max_new_tokens` to control the maximum length of the generation.\u001B[32m [repeated 8x across cluster]\u001B[0m\n",
      "\u001B[2m\u001B[36m(MapBatches(process_batch)->Map(_generate_model_predict_response_columns)->MapBatches(process_batch)->Map(<lambda>) pid=82597)\u001B[0m   warnings.warn(\u001B[32m [repeated 8x across cluster]\u001B[0m\n"
     ]
    },
    {
     "data": {
      "text/plain": "[EvalOutput(eval_name='factual_knowledge', dataset_name='TREX', dataset_scores=[EvalScore(name='factual_knowledge', value=0.05472636815920398)], prompt_template='$feature', category_scores=[CategoryScore(name='Capitals', scores=[EvalScore(name='factual_knowledge', value=0.09)]), CategoryScore(name='Subsidiary', scores=[EvalScore(name='factual_knowledge', value=0.019801980198019802)])], output_path='/tmp/eval_results/')]"
     },
     "execution_count": 5,
     "metadata": {},
     "output_type": "execute_result"
    }
   ],
   "source": [
    "# Custom dataset\n",
    "from amazon_fmeval.data_loaders.data_config import DataConfig\n",
    "dataset_config = DataConfig(\n",
    "        dataset_name=\"TREX\",\n",
    "        dataset_uri=\"/Users/xiayche/workplace/amazon-fmeval/src/examples/trex_sample.jsonl\",\n",
    "        dataset_mime_type=\"application/jsonlines\",\n",
    "        model_input_location=\"question\",\n",
    "        target_output_location=\"answers\",\n",
    "        category_location=\"knowledge_category\",\n",
    "    )\n",
    "\n",
    "# Evaluate model with amazon-fmeval built-in dataset\n",
    "eval_algo.evaluate(model=model, dataset_config=dataset_config, prompt_template=\"$feature\", save=True)"
   ],
   "metadata": {
    "collapsed": false,
    "pycharm": {
     "is_executing": true
    },
    "ExecuteTime": {
     "end_time": "2023-10-11T03:11:50.355753Z",
     "start_time": "2023-10-11T03:02:34.216843Z"
    }
   }
  },
  {
   "cell_type": "code",
   "execution_count": 11,
   "outputs": [
    {
     "name": "stdout",
     "output_type": "stream",
     "text": [
      "{\"model_input\": \"East Berlin is the capital of\", \"model_output\": \" Germany, and the city is home to the largest concentration of Jews in\", \"model_log_probability\": -3.797389030456543, \"target_output\": \"German Democratic Republic<OR>German Democratic Republic (GDR)<OR>East Germany\", \"category\": \"Capitals\", \"prompt\": \"East Berlin is the capital of\", \"scores\": [{\"name\": \"factual_knowledge\", \"value\": 0}]}\n",
      "\n",
      "{\"model_input\": \"Mogadishu is the capital of\", \"model_output\": \" Somalia, and the capital of the Somali state of Somal\", \"model_log_probability\": -2.824249744415283, \"target_output\": \"Somalia<OR>Banaadir<OR>Somali\", \"category\": \"Capitals\", \"prompt\": \"Mogadishu is the capital of\", \"scores\": [{\"name\": \"factual_knowledge\", \"value\": 1}]}\n",
      "\n",
      "{\"model_input\": \"Naples is the capital of\", \"model_output\": \" the United States, and the capital of the United States.\\n\\n\", \"model_log_probability\": -4.232937812805176, \"target_output\": \"Campania region<OR>Campania\", \"category\": \"Capitals\", \"prompt\": \"Naples is the capital of\", \"scores\": [{\"name\": \"factual_knowledge\", \"value\": 0}]}\n",
      "\n",
      "{\"model_input\": \"Podgorica is the capital of\", \"model_output\": \" the Russian Federation, and is home to the largest number of Russian\", \"model_log_probability\": -3.822420597076416, \"target_output\": \"Montenegro<OR>Montenegrin\", \"category\": \"Capitals\", \"prompt\": \"Podgorica is the capital of\", \"scores\": [{\"name\": \"factual_knowledge\", \"value\": 0}]}\n",
      "\n",
      "{\"model_input\": \"Arpad is the capital of\", \"model_output\": \" the world's largest and most advanced mobile phone market. It is the\", \"model_log_probability\": -5.078023433685303, \"target_output\": \"Bit Agusi\", \"category\": \"Capitals\", \"prompt\": \"Arpad is the capital of\", \"scores\": [{\"name\": \"factual_knowledge\", \"value\": 0}]}\n",
      "\n",
      "{\"model_input\": \"Vienna is the capital of\", \"model_output\": \" the European Union, and is home to the largest number of EU citizens\", \"model_log_probability\": -3.194929838180542, \"target_output\": \"Austro\\u2013Hungarian<OR>Austro-Hungarian Empire<OR>Holy Roman Empire<OR>Austro-Hungarian<OR>Lower Austria<OR>Austria<OR>Austria-Hungarian\", \"category\": \"Capitals\", \"prompt\": \"Vienna is the capital of\", \"scores\": [{\"name\": \"factual_knowledge\", \"value\": 0}]}\n",
      "\n",
      "{\"model_input\": \"Gelnhausen is the capital of\", \"model_output\": \" the German state of Hesse, and is home to the\", \"model_log_probability\": -4.87600040435791, \"target_output\": \"Main-Kinzig-Kreis\", \"category\": \"Capitals\", \"prompt\": \"Gelnhausen is the capital of\", \"scores\": [{\"name\": \"factual_knowledge\", \"value\": 0}]}\n",
      "\n",
      "{\"model_input\": \"Aix-en-Provence is the capital of\", \"model_output\": \" France, and is home to the largest\", \"model_log_probability\": -2.7502708435058594, \"target_output\": \"Provence\", \"category\": \"Capitals\", \"prompt\": \"Aix-en-Provence is the capital of\", \"scores\": [{\"name\": \"factual_knowledge\", \"value\": 0}]}\n",
      "\n",
      "{\"model_input\": \"Malolos is the capital of\", \"model_output\": \" the state of Georgia, which is home to the largest number of\", \"model_log_probability\": -4.941516399383545, \"target_output\": \"Bulacan\", \"category\": \"Capitals\", \"prompt\": \"Malolos is the capital of\", \"scores\": [{\"name\": \"factual_knowledge\", \"value\": 0}]}\n",
      "\n",
      "{\"model_input\": \"Thohoyandou is the capital of\", \"model_output\": \" the Republic of Korea.\\n\\nThe capital of the\", \"model_log_probability\": -5.430449485778809, \"target_output\": \"Venda\", \"category\": \"Capitals\", \"prompt\": \"Thohoyandou is the capital of\", \"scores\": [{\"name\": \"factual_knowledge\", \"value\": 0}]}\n",
      "\n",
      "{\"model_input\": \"Yamoussoukro is the capital of\", \"model_output\": \" the Krasnodar region of Russia. It\", \"model_log_probability\": -5.57382869720459, \"target_output\": \"Ivory Coast<OR>C\\u00f4te d'Ivoire\", \"category\": \"Capitals\", \"prompt\": \"Yamoussoukro is the capital of\", \"scores\": [{\"name\": \"factual_knowledge\", \"value\": 0}]}\n",
      "\n",
      "{\"model_input\": \"Digne-les-Bains is the capital of\", \"model_output\": \" France, and the capital of the French Republic\", \"model_log_probability\": -4.66910982131958, \"target_output\": \"Alpes-de-Haute-Provence\", \"category\": \"Capitals\", \"prompt\": \"Digne-les-Bains is the capital of\", \"scores\": [{\"name\": \"factual_knowledge\", \"value\": 0}]}\n",
      "\n",
      "{\"model_input\": \"Khandyga is the capital of\", \"model_output\": \" the state of Uttar Pradesh.\\n\\nThe state's population\", \"model_log_probability\": -5.045193672180176, \"target_output\": \"Tomponsky District\", \"category\": \"Capitals\", \"prompt\": \"Khandyga is the capital of\", \"scores\": [{\"name\": \"factual_knowledge\", \"value\": 0}]}\n",
      "\n",
      "{\"model_input\": \"Rouen is the capital of\", \"model_output\": \" the French Republic, and is located in the heart of the French\", \"model_log_probability\": -4.278097629547119, \"target_output\": \"Normandy<OR>Normandie<OR>Norman\", \"category\": \"Capitals\", \"prompt\": \"Rouen is the capital of\", \"scores\": [{\"name\": \"factual_knowledge\", \"value\": 0}]}\n",
      "\n",
      "{\"model_input\": \"Elista is the capital of\", \"model_output\": \" the Republic of the Republic of the Republic of the Republic of the\", \"model_log_probability\": -4.983731269836426, \"target_output\": \"Kalmykia<OR>Kalmyk\", \"category\": \"Capitals\", \"prompt\": \"Elista is the capital of\", \"scores\": [{\"name\": \"factual_knowledge\", \"value\": 0}]}\n",
      "\n",
      "{\"model_input\": \"Padmanabhapuram is the capital of\", \"model_output\": \" the state of Tamil Nadu.\\n\\nThe state\", \"model_log_probability\": -4.662484169006348, \"target_output\": \"Travancore<OR>Travancore State\", \"category\": \"Capitals\", \"prompt\": \"Padmanabhapuram is the capital of\", \"scores\": [{\"name\": \"factual_knowledge\", \"value\": 0}]}\n",
      "\n",
      "{\"model_input\": \"Guiyang is the capital of\", \"model_output\": \" the People's Republic of China, and is home to the largest\", \"model_log_probability\": -3.6536521911621094, \"target_output\": \"Guizhou Province<OR>Guizhou\", \"category\": \"Capitals\", \"prompt\": \"Guiyang is the capital of\", \"scores\": [{\"name\": \"factual_knowledge\", \"value\": 0}]}\n",
      "\n",
      "{\"model_input\": \"Kuala Lumpur is the capital of\", \"model_output\": \" Malaysia, and the city is home to the world's largest airport\", \"model_log_probability\": -2.9682977199554443, \"target_output\": \"Malaysia<OR>Malaya<OR>Federated Malay States\", \"category\": \"Capitals\", \"prompt\": \"Kuala Lumpur is the capital of\", \"scores\": [{\"name\": \"factual_knowledge\", \"value\": 1}]}\n",
      "\n",
      "{\"model_input\": \"Kabul is the capital of\", \"model_output\": \" Afghanistan's second largest province, and is home to the largest number of\", \"model_log_probability\": -3.3149328231811523, \"target_output\": \"Islamic State<OR>Afghan<OR>Taliban government<OR>Hindu Shahi<OR>Taliban<OR>Afghanistan\", \"category\": \"Capitals\", \"prompt\": \"Kabul is the capital of\", \"scores\": [{\"name\": \"factual_knowledge\", \"value\": 1}]}\n",
      "\n",
      "{\"model_input\": \"Nairobi is the capital of\", \"model_output\": \" Kenya's Democratic Republic of the Congo, which is home to the\", \"model_log_probability\": -3.225639820098877, \"target_output\": \"Kenya\", \"category\": \"Capitals\", \"prompt\": \"Nairobi is the capital of\", \"scores\": [{\"name\": \"factual_knowledge\", \"value\": 1}]}\n",
      "\n",
      "{\"model_input\": \"Palembang is the capital of\", \"model_output\": \" the Democratic Republic of Congo, and is home to the largest number\", \"model_log_probability\": -4.059066295623779, \"target_output\": \"South Sumatra<OR>South Sumatera<OR>Srivijaya\", \"category\": \"Capitals\", \"prompt\": \"Palembang is the capital of\", \"scores\": [{\"name\": \"factual_knowledge\", \"value\": 0}]}\n",
      "\n",
      "{\"model_input\": \"Alor Setar is the capital of\", \"model_output\": \" the Kingdom of the Seven Kingdoms. It is located in the\", \"model_log_probability\": -5.383638381958008, \"target_output\": \"Kedah\", \"category\": \"Capitals\", \"prompt\": \"Alor Setar is the capital of\", \"scores\": [{\"name\": \"factual_knowledge\", \"value\": 0}]}\n",
      "\n",
      "{\"model_input\": \"Manama is the capital of\", \"model_output\": \" the Democratic Republic of Congo, and is home to the largest number of\", \"model_log_probability\": -4.162099361419678, \"target_output\": \"Bahrain\", \"category\": \"Capitals\", \"prompt\": \"Manama is the capital of\", \"scores\": [{\"name\": \"factual_knowledge\", \"value\": 0}]}\n",
      "\n",
      "{\"model_input\": \"Lefko\\u015fa is the capital of\", \"model_output\": \" the Kurdish region of northern Iraq.\\n\\nThe Kurdish\", \"model_log_probability\": -5.33738899230957, \"target_output\": \"Cypriot<OR>Cyprus<OR>Turkish Cypriot<OR>Northern Cyprus\", \"category\": \"Capitals\", \"prompt\": \"Lefko\\u015fa is the capital of\", \"scores\": [{\"name\": \"factual_knowledge\", \"value\": 0}]}\n",
      "\n",
      "{\"model_input\": \"Dresden is the capital of\", \"model_output\": \" the state of North Dakota, and is home to the largest number\", \"model_log_probability\": -3.531158208847046, \"target_output\": \"Saxon<OR>Saxony\", \"category\": \"Capitals\", \"prompt\": \"Dresden is the capital of\", \"scores\": [{\"name\": \"factual_knowledge\", \"value\": 0}]}\n",
      "\n",
      "{\"model_input\": \"Arras is the capital of\", \"model_output\": \" the country's second-largest city, and is home to the largest\", \"model_log_probability\": -4.284419536590576, \"target_output\": \"Pas-de-Calais\", \"category\": \"Capitals\", \"prompt\": \"Arras is the capital of\", \"scores\": [{\"name\": \"factual_knowledge\", \"value\": 0}]}\n",
      "\n",
      "{\"model_input\": \"Rodez is the capital of\", \"model_output\": \" the United States, and he is the president of the United States\", \"model_log_probability\": -4.798251628875732, \"target_output\": \"Aveyron\", \"category\": \"Capitals\", \"prompt\": \"Rodez is the capital of\", \"scores\": [{\"name\": \"factual_knowledge\", \"value\": 0}]}\n",
      "\n",
      "{\"model_input\": \"Aracaju is the capital of\", \"model_output\": \" the state of Sulu, which is located in the southern\", \"model_log_probability\": -4.294454097747803, \"target_output\": \"Sergipe\", \"category\": \"Capitals\", \"prompt\": \"Aracaju is the capital of\", \"scores\": [{\"name\": \"factual_knowledge\", \"value\": 0}]}\n",
      "\n",
      "{\"model_input\": \"Bukhara is the capital of\", \"model_output\": \" the state of Kerala. It is home to the largest number\", \"model_log_probability\": -3.8572564125061035, \"target_output\": \"Samanid<OR>Samanids<OR>Bukhara Region\", \"category\": \"Capitals\", \"prompt\": \"Bukhara is the capital of\", \"scores\": [{\"name\": \"factual_knowledge\", \"value\": 0}]}\n",
      "\n",
      "{\"model_input\": \"Chandigarh is the capital of\", \"model_output\": \" the state of Gujarat. It is home to the largest\", \"model_log_probability\": -2.6504595279693604, \"target_output\": \"Haryana<OR>Punjab, India<OR>Indian Punjab<OR>Harayana\", \"category\": \"Capitals\", \"prompt\": \"Chandigarh is the capital of\", \"scores\": [{\"name\": \"factual_knowledge\", \"value\": 0}]}\n",
      "\n",
      "{\"model_input\": \"Buriram is the capital of\", \"model_output\": \" the state of Kerala, which is home to the world's largest\", \"model_log_probability\": -4.034060478210449, \"target_output\": \"Buriram Province<OR>Buri Ram\", \"category\": \"Capitals\", \"prompt\": \"Buriram is the capital of\", \"scores\": [{\"name\": \"factual_knowledge\", \"value\": 0}]}\n",
      "\n",
      "{\"model_input\": \"Edo is the capital of\", \"model_output\": \" the world, and the only one who can stop the evil that is\", \"model_log_probability\": -4.8052778244018555, \"target_output\": \"Tokugawa shogunate<OR>Tokugawa Japan<OR>Japan<OR>Tokugawa Shogunate\", \"category\": \"Capitals\", \"prompt\": \"Edo is the capital of\", \"scores\": [{\"name\": \"factual_knowledge\", \"value\": 0}]}\n",
      "\n",
      "{\"model_input\": \"Budapest is the capital of\", \"model_output\": \" Hungary, and is home to the largest number of refugees in Europe\", \"model_log_probability\": -2.7149903774261475, \"target_output\": \"Hungarian<OR>Pest<OR>Hungarians<OR>Hungary<OR>Pest County<OR>Austro-Hungarian Empire\", \"category\": \"Capitals\", \"prompt\": \"Budapest is the capital of\", \"scores\": [{\"name\": \"factual_knowledge\", \"value\": 1}]}\n",
      "\n",
      "{\"model_input\": \"Pul-i-Alam is the capital of\", \"model_output\": \" the Islamic State group, which has been fighting\", \"model_log_probability\": -4.281611919403076, \"target_output\": \"Logar Province\", \"category\": \"Capitals\", \"prompt\": \"Pul-i-Alam is the capital of\", \"scores\": [{\"name\": \"factual_knowledge\", \"value\": 0}]}\n",
      "\n",
      "{\"model_input\": \"Baghdad is the capital of\", \"model_output\": \" Iraq, and the capital of the Islamic State.\\n\\nThe\", \"model_log_probability\": -2.945847749710083, \"target_output\": \"Abassids<OR>Abbasid<OR>Abbasid caliphate<OR>Abbasid Caliphate<OR>Baghdad Governorate<OR>Iraq\", \"category\": \"Capitals\", \"prompt\": \"Baghdad is the capital of\", \"scores\": [{\"name\": \"factual_knowledge\", \"value\": 1}]}\n",
      "\n",
      "{\"model_input\": \"Perpignan is the capital of\", \"model_output\": \" the province of the Republic of Ireland.\\n\\nThe capital\", \"model_log_probability\": -3.934117555618286, \"target_output\": \"Roussillon<OR>Rossell\\u00f3<OR>Rousillon\", \"category\": \"Capitals\", \"prompt\": \"Perpignan is the capital of\", \"scores\": [{\"name\": \"factual_knowledge\", \"value\": 0}]}\n",
      "\n",
      "{\"model_input\": \"Surabaya is the capital of\", \"model_output\": \" the Philippines, and is home to the largest number of people in\", \"model_log_probability\": -3.6087875366210938, \"target_output\": \"Jawa Timur<OR>East Java\", \"category\": \"Capitals\", \"prompt\": \"Surabaya is the capital of\", \"scores\": [{\"name\": \"factual_knowledge\", \"value\": 0}]}\n",
      "\n",
      "{\"model_input\": \"Limoges is the capital of\", \"model_output\": \" the Netherlands, and is home to the largest number of Dutch citizens\", \"model_log_probability\": -4.579099178314209, \"target_output\": \"Limousin<OR>Haute-Vienne\", \"category\": \"Capitals\", \"prompt\": \"Limoges is the capital of\", \"scores\": [{\"name\": \"factual_knowledge\", \"value\": 0}]}\n",
      "\n",
      "{\"model_input\": \"S\\u00e3o Salvador is the capital of\", \"model_output\": \" the country's largest oil-producing region, and is home to\", \"model_log_probability\": -4.193514823913574, \"target_output\": \"Zaire Province\", \"category\": \"Capitals\", \"prompt\": \"S\\u00e3o Salvador is the capital of\", \"scores\": [{\"name\": \"factual_knowledge\", \"value\": 0}]}\n",
      "\n",
      "{\"model_input\": \"Crystal Dynamics is a subsidiary of\", \"model_output\": \" the company that manufactures the X-Men.\\n\\nContents show]\", \"model_log_probability\": -4.3118896484375, \"target_output\": \"Square Enix\", \"category\": \"Subsidiary\", \"prompt\": \"Crystal Dynamics is a subsidiary of\", \"scores\": [{\"name\": \"factual_knowledge\", \"value\": 0}]}\n",
      "\n",
      "{\"model_input\": \"Taiyuan is the capital of\", \"model_output\": \" the People's Republic of China, and is home to the largest\", \"model_log_probability\": -3.9166548252105713, \"target_output\": \"Northern Han<OR>Shanxi<OR>Shanxi Province\", \"category\": \"Capitals\", \"prompt\": \"Taiyuan is the capital of\", \"scores\": [{\"name\": \"factual_knowledge\", \"value\": 0}]}\n",
      "\n",
      "{\"model_input\": \"Nelspruit is the capital of\", \"model_output\": \" the Netherlands, and is home to the largest number of people\", \"model_log_probability\": -5.150140762329102, \"target_output\": \"Mpumalanga\", \"category\": \"Capitals\", \"prompt\": \"Nelspruit is the capital of\", \"scores\": [{\"name\": \"factual_knowledge\", \"value\": 0}]}\n",
      "\n",
      "{\"model_input\": \"Madrid is the capital of\", \"model_output\": \" the province of the Spanish Republic.\\n\\nThe Spanish government has been\", \"model_log_probability\": -3.4677867889404297, \"target_output\": \"Spanish Republic<OR>Spanish Republican<OR>Spain<OR>Republican<OR>Spanish Empire<OR>Republicans<OR>Spanish\", \"category\": \"Capitals\", \"prompt\": \"Madrid is the capital of\", \"scores\": [{\"name\": \"factual_knowledge\", \"value\": 1}]}\n",
      "\n",
      "{\"model_input\": \"Minsk is the capital of\", \"model_output\": \" Belarus, and the capital of the Russian Federation.\\n\\nThe Russian\", \"model_log_probability\": -3.654818296432495, \"target_output\": \"Byelorussian Soviet Socialist Republic<OR>Belarus<OR>Belarusian<OR>Minsk Region\", \"category\": \"Capitals\", \"prompt\": \"Minsk is the capital of\", \"scores\": [{\"name\": \"factual_knowledge\", \"value\": 1}]}\n",
      "\n",
      "{\"model_input\": \"Kuching is the capital of\", \"model_output\": \" the Qinghai province, and is home to the largest number of\", \"model_log_probability\": -3.795203685760498, \"target_output\": \"Sarawak<OR>Crown Colony\", \"category\": \"Capitals\", \"prompt\": \"Kuching is the capital of\", \"scores\": [{\"name\": \"factual_knowledge\", \"value\": 0}]}\n",
      "\n",
      "{\"model_input\": \"Makassar is the capital of\", \"model_output\": \" the Islamic State group, which has been fighting the Syrian government\", \"model_log_probability\": -3.392465353012085, \"target_output\": \"South Sulawesi\", \"category\": \"Capitals\", \"prompt\": \"Makassar is the capital of\", \"scores\": [{\"name\": \"factual_knowledge\", \"value\": 0}]}\n",
      "\n",
      "{\"model_input\": \"Santo Domingo is the capital of\", \"model_output\": \" the Philippines, and is the only country in the world\", \"model_log_probability\": -3.275343656539917, \"target_output\": \"Dominican Republic<OR>Dominican<OR>Distrito Nacional\", \"category\": \"Capitals\", \"prompt\": \"Santo Domingo is the capital of\", \"scores\": [{\"name\": \"factual_knowledge\", \"value\": 0}]}\n",
      "\n",
      "{\"model_input\": \"Homs is the capital of\", \"model_output\": \" the United States, and the only country in the world that has a\", \"model_log_probability\": -4.512083530426025, \"target_output\": \"Homs Governorate\", \"category\": \"Capitals\", \"prompt\": \"Homs is the capital of\", \"scores\": [{\"name\": \"factual_knowledge\", \"value\": 0}]}\n",
      "\n",
      "{\"model_input\": \"Bassein is the capital of\", \"model_output\": \" the Islamic Republic of Iran.\\n\\nThe Islamic Republic of Iran is\", \"model_log_probability\": -5.158038139343262, \"target_output\": \"Ayeyarwady Region\", \"category\": \"Capitals\", \"prompt\": \"Bassein is the capital of\", \"scores\": [{\"name\": \"factual_knowledge\", \"value\": 0}]}\n",
      "\n",
      "{\"model_input\": \"Sekondi-Takoradi is the capital of\", \"model_output\": \" the province of Tashkent\", \"model_log_probability\": -4.4769792556762695, \"target_output\": \"Western Region, Ghana\", \"category\": \"Capitals\", \"prompt\": \"Sekondi-Takoradi is the capital of\", \"scores\": [{\"name\": \"factual_knowledge\", \"value\": 0}]}\n",
      "\n",
      "{\"model_input\": \"Constantinople is the capital of\", \"model_output\": \" the city of St. Petersburg, and is located in the\", \"model_log_probability\": -3.4406511783599854, \"target_output\": \"Roman Empire<OR>Byzantine Empire<OR>Ottoman<OR>Byzantine/Eastern Roman Empire<OR>Eastern Roman<OR>Byzantine emperors<OR>Turkey<OR>East Roman Emperor<OR>Eastern Roman (Byzantine) Empire<OR>Byzantine<OR>Byzantine emperor<OR>Eastern Roman Empire<OR>Turkish<OR>East Roman<OR>Ottoman Empire<OR>Latin Empire\", \"category\": \"Capitals\", \"prompt\": \"Constantinople is the capital of\", \"scores\": [{\"name\": \"factual_knowledge\", \"value\": 0}]}\n",
      "\n",
      "{\"model_input\": \"Philadelphia is the capital of\", \"model_output\": \" the state of New York.\\n\\nThe city's population is estimated at\", \"model_log_probability\": -4.344814300537109, \"target_output\": \"American<OR>United States\", \"category\": \"Capitals\", \"prompt\": \"Philadelphia is the capital of\", \"scores\": [{\"name\": \"factual_knowledge\", \"value\": 0}]}\n",
      "\n",
      "{\"model_input\": \"Zagreb is the capital of\", \"model_output\": \" the former Yugoslavia, and is home to the largest number of refugees\", \"model_log_probability\": -2.9355599880218506, \"target_output\": \"Croatian<OR>Zagreb County<OR>Croatia\", \"category\": \"Capitals\", \"prompt\": \"Zagreb is the capital of\", \"scores\": [{\"name\": \"factual_knowledge\", \"value\": 0}]}\n",
      "\n",
      "{\"model_input\": \"Hattusa is the capital of\", \"model_output\": \" the Democratic Republic of Congo, and is home to the largest number\", \"model_log_probability\": -4.922508239746094, \"target_output\": \"Hittites<OR>Hittite<OR>Hittite Empire\", \"category\": \"Capitals\", \"prompt\": \"Hattusa is the capital of\", \"scores\": [{\"name\": \"factual_knowledge\", \"value\": 0}]}\n",
      "\n",
      "{\"model_input\": \"Guliston is the capital of\", \"model_output\": \" the state of New Jersey.\\n\\nThe state's largest city\", \"model_log_probability\": -4.97507905960083, \"target_output\": \"Sirdaryo Region\", \"category\": \"Capitals\", \"prompt\": \"Guliston is the capital of\", \"scores\": [{\"name\": \"factual_knowledge\", \"value\": 0}]}\n",
      "\n",
      "{\"model_input\": \"Ghent is the capital of\", \"model_output\": \" the Netherlands, and is home to the largest number of people in the\", \"model_log_probability\": -3.7751810550689697, \"target_output\": \"East Flanders<OR>East-Flanders\", \"category\": \"Capitals\", \"prompt\": \"Ghent is the capital of\", \"scores\": [{\"name\": \"factual_knowledge\", \"value\": 0}]}\n",
      "\n",
      "{\"model_input\": \"Riga is the capital of\", \"model_output\": \" the Soviet Union, and is home to the largest number of Soviet citizens\", \"model_log_probability\": -3.7786319255828857, \"target_output\": \"Latvia<OR>Latvian\", \"category\": \"Capitals\", \"prompt\": \"Riga is the capital of\", \"scores\": [{\"name\": \"factual_knowledge\", \"value\": 0}]}\n",
      "\n",
      "{\"model_input\": \"Sarajevo is the capital of\", \"model_output\": \" the Russian Federation, and is home to the largest number\", \"model_log_probability\": -2.4941158294677734, \"target_output\": \"Bosnian<OR>Sarajevo Canton<OR>Republika Srpska<OR>Bosnia\", \"category\": \"Capitals\", \"prompt\": \"Sarajevo is the capital of\", \"scores\": [{\"name\": \"factual_knowledge\", \"value\": 0}]}\n",
      "\n",
      "{\"model_input\": \"Amsterdam is the capital of\", \"model_output\": \" the Netherlands, and the Netherlands is the largest city in the world.\", \"model_log_probability\": -3.10224986076355, \"target_output\": \"Dutch<OR>The Netherlands<OR>Netherlands\", \"category\": \"Capitals\", \"prompt\": \"Amsterdam is the capital of\", \"scores\": [{\"name\": \"factual_knowledge\", \"value\": 1}]}\n",
      "\n",
      "{\"model_input\": \"Linz is the capital of\", \"model_output\": \" the Czech Republic, and is the only country in the world that has\", \"model_log_probability\": -4.640806198120117, \"target_output\": \"Upper Austria<OR>Ober\\u00f6sterreich\", \"category\": \"Capitals\", \"prompt\": \"Linz is the capital of\", \"scores\": [{\"name\": \"factual_knowledge\", \"value\": 0}]}\n",
      "\n",
      "{\"model_input\": \"Aurillac is the capital of\", \"model_output\": \" the world's largest and most populous state, and is home to\", \"model_log_probability\": -4.9648847579956055, \"target_output\": \"Cantal\", \"category\": \"Capitals\", \"prompt\": \"Aurillac is the capital of\", \"scores\": [{\"name\": \"factual_knowledge\", \"value\": 0}]}\n",
      "\n",
      "{\"model_input\": \"Bamiyan city is the capital of\", \"model_output\": \" the province of Bamiyan, which is located in the\", \"model_log_probability\": -3.7316441535949707, \"target_output\": \"Bamiyan Province\", \"category\": \"Capitals\", \"prompt\": \"Bamiyan city is the capital of\", \"scores\": [{\"name\": \"factual_knowledge\", \"value\": 0}]}\n",
      "\n",
      "{\"model_input\": \"Sokhumi is the capital of\", \"model_output\": \" the Republic of Korea.\\n\\nThe capital of the Republic\", \"model_log_probability\": -4.587167739868164, \"target_output\": \"Abkhazia\", \"category\": \"Capitals\", \"prompt\": \"Sokhumi is the capital of\", \"scores\": [{\"name\": \"factual_knowledge\", \"value\": 0}]}\n",
      "\n",
      "{\"model_input\": \"Bukavu is the capital of\", \"model_output\": \" the state of Tamil Nadu. It is home to the largest\", \"model_log_probability\": -3.657963514328003, \"target_output\": \"South Kivu<OR>Sud-Kivu Province<OR>Sud-Kivu province<OR>Sud-Kivu\", \"category\": \"Capitals\", \"prompt\": \"Bukavu is the capital of\", \"scores\": [{\"name\": \"factual_knowledge\", \"value\": 0}]}\n",
      "\n",
      "{\"model_input\": \"Senftenberg is the capital of\", \"model_output\": \" the Netherlands, and is home to the largest number of refugees in\", \"model_log_probability\": -5.554055690765381, \"target_output\": \"Oberspreewald-Lausitz\", \"category\": \"Capitals\", \"prompt\": \"Senftenberg is the capital of\", \"scores\": [{\"name\": \"factual_knowledge\", \"value\": 0}]}\n",
      "\n",
      "{\"model_input\": \"Legazpi City is the capital of\", \"model_output\": \" the Republic of the Republic of the Philippines. It is located\", \"model_log_probability\": -4.942364692687988, \"target_output\": \"Albay\", \"category\": \"Capitals\", \"prompt\": \"Legazpi City is the capital of\", \"scores\": [{\"name\": \"factual_knowledge\", \"value\": 0}]}\n",
      "\n",
      "{\"model_input\": \"Sukhum is the capital of\", \"model_output\": \" the state of Punjab. It is home to the largest number of\", \"model_log_probability\": -5.103631019592285, \"target_output\": \"Abkhazia\", \"category\": \"Capitals\", \"prompt\": \"Sukhum is the capital of\", \"scores\": [{\"name\": \"factual_knowledge\", \"value\": 0}]}\n",
      "\n",
      "{\"model_input\": \"Bandar Seri Begawan is the capital of\", \"model_output\": \" the Democratic Republic of Congo, and is the first\", \"model_log_probability\": -5.04718017578125, \"target_output\": \"Brunei Darussalam<OR>Brunei\", \"category\": \"Capitals\", \"prompt\": \"Bandar Seri Begawan is the capital of\", \"scores\": [{\"name\": \"factual_knowledge\", \"value\": 0}]}\n",
      "\n",
      "{\"model_input\": \"Bloemfontein is the capital of\", \"model_output\": \" the Netherlands, and is home to the largest number\", \"model_log_probability\": -2.5000834465026855, \"target_output\": \"Free State<OR>Mangaung Local Municipality<OR>Orange Free State<OR>Free State Province<OR>South Africa\", \"category\": \"Capitals\", \"prompt\": \"Bloemfontein is the capital of\", \"scores\": [{\"name\": \"factual_knowledge\", \"value\": 0}]}\n",
      "\n",
      "{\"model_input\": \"Agartala is the capital of\", \"model_output\": \" the state of Tamil Nadu. It is also home to the largest\", \"model_log_probability\": -4.044039726257324, \"target_output\": \"Tripura\", \"category\": \"Capitals\", \"prompt\": \"Agartala is the capital of\", \"scores\": [{\"name\": \"factual_knowledge\", \"value\": 0}]}\n",
      "\n",
      "{\"model_input\": \"Castries is the capital of\", \"model_output\": \" the United States, and is located in the heart of the South.\", \"model_log_probability\": -5.820217132568359, \"target_output\": \"Saint Lucia<OR>St Lucia\", \"category\": \"Capitals\", \"prompt\": \"Castries is the capital of\", \"scores\": [{\"name\": \"factual_knowledge\", \"value\": 0}]}\n",
      "\n",
      "{\"model_input\": \"Lichinga is the capital of\", \"model_output\": \" the Democratic Republic of Congo, and is home to the largest\", \"model_log_probability\": -4.598836898803711, \"target_output\": \"Niassa province<OR>Niassa Province\", \"category\": \"Capitals\", \"prompt\": \"Lichinga is the capital of\", \"scores\": [{\"name\": \"factual_knowledge\", \"value\": 0}]}\n",
      "\n",
      "{\"model_input\": \"Thimphu is the capital of\", \"model_output\": \" the state of Tamil Nadu. It is located in the state\", \"model_log_probability\": -3.8611130714416504, \"target_output\": \"Thimphu District<OR>Bhutan\", \"category\": \"Capitals\", \"prompt\": \"Thimphu is the capital of\", \"scores\": [{\"name\": \"factual_knowledge\", \"value\": 0}]}\n",
      "\n",
      "{\"model_input\": \"Vientiane is the capital of\", \"model_output\": \" the province of C\\u00f4te d'Ivoire, and\", \"model_log_probability\": -3.4578356742858887, \"target_output\": \"Laotian<OR>Laos\", \"category\": \"Capitals\", \"prompt\": \"Vientiane is the capital of\", \"scores\": [{\"name\": \"factual_knowledge\", \"value\": 0}]}\n",
      "\n",
      "{\"model_input\": \"Sapporo is the capital of\", \"model_output\": \" the Philippines, and is home to the largest number of people in\", \"model_log_probability\": -4.497611045837402, \"target_output\": \"Hokkaido<OR>Hokkaido Prefecture<OR>Hokkaid\\u014d<OR>Ishikari\", \"category\": \"Capitals\", \"prompt\": \"Sapporo is the capital of\", \"scores\": [{\"name\": \"factual_knowledge\", \"value\": 0}]}\n",
      "\n",
      "{\"model_input\": \"Bern is the capital of\", \"model_output\": \" the United States, and he is the president of the United States. He\", \"model_log_probability\": -5.921164512634277, \"target_output\": \"Switzerland<OR>Swiss\", \"category\": \"Capitals\", \"prompt\": \"Bern is the capital of\", \"scores\": [{\"name\": \"factual_knowledge\", \"value\": 0}]}\n",
      "\n",
      "{\"model_input\": \"Bonn is the capital of\", \"model_output\": \" the Czech Republic, and is the capital of the Czech Republic.\\n\", \"model_log_probability\": -4.246284484863281, \"target_output\": \"West Germany<OR>West German<OR>Germany\", \"category\": \"Capitals\", \"prompt\": \"Bonn is the capital of\", \"scores\": [{\"name\": \"factual_knowledge\", \"value\": 0}]}\n",
      "\n",
      "{\"model_input\": \"Gyeongju is the capital of\", \"model_output\": \" South Korea, and is home to the country's largest and\", \"model_log_probability\": -3.3509817123413086, \"target_output\": \"Silla Dynasty<OR>Silla<OR>Silla Kingdom\", \"category\": \"Capitals\", \"prompt\": \"Gyeongju is the capital of\", \"scores\": [{\"name\": \"factual_knowledge\", \"value\": 0}]}\n",
      "\n",
      "{\"model_input\": \"La Plata is the capital of\", \"model_output\": \" the Republic of the Philippines. It is located in the heart of\", \"model_log_probability\": -3.506927490234375, \"target_output\": \"Chuquisaca Department<OR>Buenos Aires<OR>Chuquisaca<OR>Buenos Aires Province<OR>Buenos Aires province<OR>Bolivia\", \"category\": \"Capitals\", \"prompt\": \"La Plata is the capital of\", \"scores\": [{\"name\": \"factual_knowledge\", \"value\": 0}]}\n",
      "\n",
      "{\"model_input\": \"Changsha is the capital of\", \"model_output\": \" the state of Tamil Nadu. It is also home to the largest\", \"model_log_probability\": -4.276764392852783, \"target_output\": \"Hunan<OR>Hunan Province\", \"category\": \"Capitals\", \"prompt\": \"Changsha is the capital of\", \"scores\": [{\"name\": \"factual_knowledge\", \"value\": 0}]}\n",
      "\n",
      "{\"model_input\": \"Ulan-Ude is the capital of\", \"model_output\": \" the Democratic Republic of Congo, and is home to the\", \"model_log_probability\": -3.9758780002593994, \"target_output\": \"Buryat<OR>Buryatia\", \"category\": \"Capitals\", \"prompt\": \"Ulan-Ude is the capital of\", \"scores\": [{\"name\": \"factual_knowledge\", \"value\": 0}]}\n",
      "\n",
      "{\"model_input\": \"Palikir is the capital of\", \"model_output\": \" the Islamic Republic of Iran.\\n\\nThe Islamic Republic of Iran\", \"model_log_probability\": -4.802262306213379, \"target_output\": \"Micronesian<OR>Micronesia\", \"category\": \"Capitals\", \"prompt\": \"Palikir is the capital of\", \"scores\": [{\"name\": \"factual_knowledge\", \"value\": 0}]}\n",
      "\n",
      "{\"model_input\": \"la Seu d'Urgell is the capital of\", \"model_output\": \" the province of the French Republic.\\n\", \"model_log_probability\": -5.544833660125732, \"target_output\": \"Alt Urgell\", \"category\": \"Capitals\", \"prompt\": \"la Seu d'Urgell is the capital of\", \"scores\": [{\"name\": \"factual_knowledge\", \"value\": 0}]}\n",
      "\n",
      "{\"model_input\": \"Warangal is the capital of\", \"model_output\": \" the province of Jammu and Kashmir. It is home to the\", \"model_log_probability\": -4.507887363433838, \"target_output\": \"Kakatiya dynasty\", \"category\": \"Capitals\", \"prompt\": \"Warangal is the capital of\", \"scores\": [{\"name\": \"factual_knowledge\", \"value\": 0}]}\n",
      "\n",
      "{\"model_input\": \"Brussels is the capital of\", \"model_output\": \" the Netherlands, and is home to the largest number of immigrants to\", \"model_log_probability\": -2.8100504875183105, \"target_output\": \"Austrian Netherlands<OR>Brussels-Capital Region<OR>Belgium\", \"category\": \"Capitals\", \"prompt\": \"Brussels is the capital of\", \"scores\": [{\"name\": \"factual_knowledge\", \"value\": 0}]}\n",
      "\n",
      "{\"model_input\": \"Albany is the capital of\", \"model_output\": \" the Netherlands, and is home to the largest number of immigrants to\", \"model_log_probability\": -2.9926624298095703, \"target_output\": \"Albany County<OR>New York State<OR>New York\", \"category\": \"Capitals\", \"prompt\": \"Albany is the capital of\", \"scores\": [{\"name\": \"factual_knowledge\", \"value\": 0}]}\n",
      "\n",
      "{\"model_input\": \"Port au Prince is the capital of\", \"model_output\": \" the French province of Saint-Denis, which is home to\", \"model_log_probability\": -4.203806400299072, \"target_output\": \"Haiti\", \"category\": \"Capitals\", \"prompt\": \"Port au Prince is the capital of\", \"scores\": [{\"name\": \"factual_knowledge\", \"value\": 0}]}\n",
      "\n",
      "{\"model_input\": \"Cape Coast is the capital of\", \"model_output\": \" Cape Town, South Africa. It is home to the largest number\", \"model_log_probability\": -4.325110912322998, \"target_output\": \"Central regional<OR>Central Region, Ghana\", \"category\": \"Capitals\", \"prompt\": \"Cape Coast is the capital of\", \"scores\": [{\"name\": \"factual_knowledge\", \"value\": 0}]}\n",
      "\n",
      "{\"model_input\": \"Toluca is the capital of\", \"model_output\": \" the state of Arizona.\\n\\nThe state's largest city,\", \"model_log_probability\": -3.91089129447937, \"target_output\": \"Mexico State<OR>Estado de Mexico<OR>Mexico\", \"category\": \"Capitals\", \"prompt\": \"Toluca is the capital of\", \"scores\": [{\"name\": \"factual_knowledge\", \"value\": 0}]}\n",
      "\n",
      "{\"model_input\": \"Port Moresby is the capital of\", \"model_output\": \" the UK, and is home to the largest number of people\", \"model_log_probability\": -3.475087881088257, \"target_output\": \"Papua New Guinea<OR>Papua\", \"category\": \"Capitals\", \"prompt\": \"Port Moresby is the capital of\", \"scores\": [{\"name\": \"factual_knowledge\", \"value\": 0}]}\n",
      "\n",
      "{\"model_input\": \"Lucena City is the capital of\", \"model_output\": \" the Republic of the Republic of the Philippines. It is located in\", \"model_log_probability\": -5.201792240142822, \"target_output\": \"Quezon Province<OR>Quezon\", \"category\": \"Capitals\", \"prompt\": \"Lucena City is the capital of\", \"scores\": [{\"name\": \"factual_knowledge\", \"value\": 0}]}\n",
      "\n",
      "{\"model_input\": \"San Fernando del Valle de Catamarca is the capital of\", \"model_output\": \" the state of Costa Rica.\", \"model_log_probability\": -3.8254246711730957, \"target_output\": \"Catamarca Province<OR>Catamarca\", \"category\": \"Capitals\", \"prompt\": \"San Fernando del Valle de Catamarca is the capital of\", \"scores\": [{\"name\": \"factual_knowledge\", \"value\": 0}]}\n",
      "\n",
      "{\"model_input\": \"King Edward Point is the capital of\", \"model_output\": \" the British Empire. It is the capital of the British Empire.\", \"model_log_probability\": -4.99994421005249, \"target_output\": \"South Georgia<OR>South Sandwich Islands\", \"category\": \"Capitals\", \"prompt\": \"King Edward Point is the capital of\", \"scores\": [{\"name\": \"factual_knowledge\", \"value\": 0}]}\n",
      "\n",
      "{\"model_input\": \"Damietta is the capital of\", \"model_output\": \" the state of Georgia, and is home to the largest number of\", \"model_log_probability\": -4.177736759185791, \"target_output\": \"Damietta Governorate\", \"category\": \"Capitals\", \"prompt\": \"Damietta is the capital of\", \"scores\": [{\"name\": \"factual_knowledge\", \"value\": 0}]}\n",
      "\n",
      "{\"model_input\": \"Kindu is the capital of\", \"model_output\": \" the state of Uttar Pradesh.\\n\\nThe state's population is estimated\", \"model_log_probability\": -5.187686443328857, \"target_output\": \"Maniema province\", \"category\": \"Capitals\", \"prompt\": \"Kindu is the capital of\", \"scores\": [{\"name\": \"factual_knowledge\", \"value\": 0}]}\n",
      "\n",
      "{\"model_input\": \"Sitten is the capital of\", \"model_output\": \" the world's largest and most populous country, and is home to the\", \"model_log_probability\": -5.140545845031738, \"target_output\": \"Sion<OR>Valais\", \"category\": \"Capitals\", \"prompt\": \"Sitten is the capital of\", \"scores\": [{\"name\": \"factual_knowledge\", \"value\": 0}]}\n",
      "\n",
      "{\"model_input\": \"Tarin Kowt is the capital of\", \"model_output\": \" the Russian Federation, and is the only person to have\", \"model_log_probability\": -5.82260799407959, \"target_output\": \"Urozgan Province<OR>Uruzgan province<OR>Uruzgan\", \"category\": \"Capitals\", \"prompt\": \"Tarin Kowt is the capital of\", \"scores\": [{\"name\": \"factual_knowledge\", \"value\": 0}]}\n",
      "\n",
      "{\"model_input\": \"Buda is the capital of\", \"model_output\": \" the Palestinian territories, and the capital of the Palestinian territories.\\n\\n\", \"model_log_probability\": -4.382116794586182, \"target_output\": \"Hungary\", \"category\": \"Capitals\", \"prompt\": \"Buda is the capital of\", \"scores\": [{\"name\": \"factual_knowledge\", \"value\": 0}]}\n",
      "\n",
      "{\"model_input\": \"Hobart is the capital of\", \"model_output\": \" the Netherlands, and is home to the largest number of immigrants to\", \"model_log_probability\": -3.701106548309326, \"target_output\": \"Tasmania\", \"category\": \"Capitals\", \"prompt\": \"Hobart is the capital of\", \"scores\": [{\"name\": \"factual_knowledge\", \"value\": 0}]}\n",
      "\n",
      "{\"model_input\": \"Naha is the capital of\", \"model_output\": \" the Islamic Republic of Iran, and is home to the largest number of\", \"model_log_probability\": -4.609035015106201, \"target_output\": \"Okinawa Prefecture<OR>Okinawa\", \"category\": \"Capitals\", \"prompt\": \"Naha is the capital of\", \"scores\": [{\"name\": \"factual_knowledge\", \"value\": 0}]}\n",
      "\n",
      "{\"model_input\": \"Kolkata is the capital of\", \"model_output\": \" the state of Uttar Pradesh. It is home to the largest number\", \"model_log_probability\": -3.1194961071014404, \"target_output\": \"British India<OR>India<OR>Kolkata district<OR>West Bengal<OR>British Indian empire<OR>Company rule<OR>British Raj\", \"category\": \"Capitals\", \"prompt\": \"Kolkata is the capital of\", \"scores\": [{\"name\": \"factual_knowledge\", \"value\": 0}]}\n",
      "\n",
      "{\"model_input\": \"Stroytransgaz is a subsidiary of\", \"model_output\": \" the company that makes the popular \\\"Troy Transporter\", \"model_log_probability\": -5.28007173538208, \"target_output\": \"Gazprom\", \"category\": \"Subsidiary\", \"prompt\": \"Stroytransgaz is a subsidiary of\", \"scores\": [{\"name\": \"factual_knowledge\", \"value\": 0}]}\n",
      "\n",
      "{\"model_input\": \"Johnston & Murphy is a subsidiary of\", \"model_output\": \" the American Broadcasting Company.\\n\\nThe opinions expressed by column\", \"model_log_probability\": -4.665130138397217, \"target_output\": \"Genesco Inc.\", \"category\": \"Subsidiary\", \"prompt\": \"Johnston & Murphy is a subsidiary of\", \"scores\": [{\"name\": \"factual_knowledge\", \"value\": 0}]}\n",
      "\n",
      "{\"model_input\": \"Georgia Power is a subsidiary of\", \"model_output\": \" the American Electric Power Association.\\n\\nThe company's website states that\", \"model_log_probability\": -4.509204387664795, \"target_output\": \"Southern Company\", \"category\": \"Subsidiary\", \"prompt\": \"Georgia Power is a subsidiary of\", \"scores\": [{\"name\": \"factual_knowledge\", \"value\": 0}]}\n",
      "\n",
      "{\"model_input\": \"Consumers Power is a subsidiary of\", \"model_output\": \" the American Petroleum Institute, a conservative think tank.\\n\\nThe\", \"model_log_probability\": -4.5383100509643555, \"target_output\": \"CMS Energy\", \"category\": \"Subsidiary\", \"prompt\": \"Consumers Power is a subsidiary of\", \"scores\": [{\"name\": \"factual_knowledge\", \"value\": 0}]}\n",
      "\n",
      "{\"model_input\": \"Scandinavian Airlines is a subsidiary of\", \"model_output\": \" Norwegian Airlines.\\n\\nThe airline has been in business\", \"model_log_probability\": -2.9875669479370117, \"target_output\": \"SAS Group\", \"category\": \"Subsidiary\", \"prompt\": \"Scandinavian Airlines is a subsidiary of\", \"scores\": [{\"name\": \"factual_knowledge\", \"value\": 0}]}\n",
      "\n",
      "{\"model_input\": \"Rolls-Royce Power Systems is a subsidiary of\", \"model_output\": \" the company that manufactures the Power Systems.\\n\", \"model_log_probability\": -3.2015037536621094, \"target_output\": \"Rolls-Royce Holdings\", \"category\": \"Subsidiary\", \"prompt\": \"Rolls-Royce Power Systems is a subsidiary of\", \"scores\": [{\"name\": \"factual_knowledge\", \"value\": 0}]}\n",
      "\n",
      "{\"model_input\": \"Rolls-Royce Deutschland is a subsidiary of\", \"model_output\": \" the German company, which is based in\", \"model_log_probability\": -3.0387189388275146, \"target_output\": \"Rolls-Royce plc\", \"category\": \"Subsidiary\", \"prompt\": \"Rolls-Royce Deutschland is a subsidiary of\", \"scores\": [{\"name\": \"factual_knowledge\", \"value\": 0}]}\n",
      "\n",
      "{\"model_input\": \"SOPUS Products is a subsidiary of\", \"model_output\": \" the U.S. Department of Agriculture.\\n\\nThe\", \"model_log_probability\": -5.6168928146362305, \"target_output\": \"Royal Dutch Shell\", \"category\": \"Subsidiary\", \"prompt\": \"SOPUS Products is a subsidiary of\", \"scores\": [{\"name\": \"factual_knowledge\", \"value\": 0}]}\n",
      "\n",
      "{\"model_input\": \"2K Czech is a subsidiary of\", \"model_output\": \" the Czech Republic's largest telecoms company, Telefonica.\", \"model_log_probability\": -5.540782451629639, \"target_output\": \"2K Games\", \"category\": \"Subsidiary\", \"prompt\": \"2K Czech is a subsidiary of\", \"scores\": [{\"name\": \"factual_knowledge\", \"value\": 0}]}\n",
      "\n",
      "{\"model_input\": \"NutraSweet is a subsidiary of\", \"model_output\": \" the Japanese company, which is based in Tokyo.\\n\\nThe\", \"model_log_probability\": -5.278299808502197, \"target_output\": \"Monsanto\", \"category\": \"Subsidiary\", \"prompt\": \"NutraSweet is a subsidiary of\", \"scores\": [{\"name\": \"factual_knowledge\", \"value\": 0}]}\n",
      "\n",
      "{\"model_input\": \"Korea Hydro & Nuclear Power is a subsidiary of\", \"model_output\": \" the Korean Nuclear Power Corporation (KNC).\\n\", \"model_log_probability\": -3.7203736305236816, \"target_output\": \"Korea Electric Power Corporation\", \"category\": \"Subsidiary\", \"prompt\": \"Korea Hydro & Nuclear Power is a subsidiary of\", \"scores\": [{\"name\": \"factual_knowledge\", \"value\": 0}]}\n",
      "\n",
      "{\"model_input\": \"Paramount Home Media Distribution is a subsidiary of\", \"model_output\": \" the National Association of Broadcasters.\\n\\nThe National\", \"model_log_probability\": -3.963129997253418, \"target_output\": \"Paramount Pictures\", \"category\": \"Subsidiary\", \"prompt\": \"Paramount Home Media Distribution is a subsidiary of\", \"scores\": [{\"name\": \"factual_knowledge\", \"value\": 0}]}\n",
      "\n",
      "{\"model_input\": \"Nokia Networks is a subsidiary of\", \"model_output\": \" Nokia.\\n\\nThe company is also a subsidiary of Nokia.\", \"model_log_probability\": -3.9573588371276855, \"target_output\": \"Nokia Corporation<OR>Nokia\", \"category\": \"Subsidiary\", \"prompt\": \"Nokia Networks is a subsidiary of\", \"scores\": [{\"name\": \"factual_knowledge\", \"value\": 1}]}\n",
      "\n",
      "{\"model_input\": \"Swiss European Air Lines is a subsidiary of\", \"model_output\": \" Airbus Group, which is based in Paris.\\n\\n\", \"model_log_probability\": -4.714731216430664, \"target_output\": \"Swiss International Air Lines<OR>Lufthansa Group\", \"category\": \"Subsidiary\", \"prompt\": \"Swiss European Air Lines is a subsidiary of\", \"scores\": [{\"name\": \"factual_knowledge\", \"value\": 0}]}\n",
      "\n",
      "{\"model_input\": \"Crayola is a subsidiary of\", \"model_output\": \" the company that makes the popular \\\"Crayola\\\" and \\\"\", \"model_log_probability\": -3.589078903198242, \"target_output\": \"Hallmark Cards\", \"category\": \"Subsidiary\", \"prompt\": \"Crayola is a subsidiary of\", \"scores\": [{\"name\": \"factual_knowledge\", \"value\": 0}]}\n",
      "\n",
      "{\"model_input\": \"Mitsubishi Motors Australia Limited is a subsidiary of\", \"model_output\": \" Mitsubishi Motors Australia Limited. Mitsub\", \"model_log_probability\": -3.4829065799713135, \"target_output\": \"Mitsubishi Motors Corporation\", \"category\": \"Subsidiary\", \"prompt\": \"Mitsubishi Motors Australia Limited is a subsidiary of\", \"scores\": [{\"name\": \"factual_knowledge\", \"value\": 0}]}\n",
      "\n",
      "{\"model_input\": \"Viacom Media Networks is a subsidiary of\", \"model_output\": \" the U.S. Cellular Telecommunications Association.\\n\\n\", \"model_log_probability\": -3.6431093215942383, \"target_output\": \"Viacom\", \"category\": \"Subsidiary\", \"prompt\": \"Viacom Media Networks is a subsidiary of\", \"scores\": [{\"name\": \"factual_knowledge\", \"value\": 0}]}\n",
      "\n",
      "{\"model_input\": \"Beam Suntory is a subsidiary of\", \"model_output\": \" the company that makes the popular \\\"Suntory\\\"\", \"model_log_probability\": -4.467864990234375, \"target_output\": \"Suntory Holdings\", \"category\": \"Subsidiary\", \"prompt\": \"Beam Suntory is a subsidiary of\", \"scores\": [{\"name\": \"factual_knowledge\", \"value\": 0}]}\n",
      "\n",
      "{\"model_input\": \"Bonneville International is a subsidiary of\", \"model_output\": \" the National Institute of Standards and Technology (NIST).\\n\", \"model_log_probability\": -4.166439056396484, \"target_output\": \"Deseret Management Corporation\", \"category\": \"Subsidiary\", \"prompt\": \"Bonneville International is a subsidiary of\", \"scores\": [{\"name\": \"factual_knowledge\", \"value\": 0}]}\n",
      "\n",
      "{\"model_input\": \"Sony Music Japan is a subsidiary of\", \"model_output\": \" Sony Music Japan.\\n\\nThe company's music streaming service is\", \"model_log_probability\": -4.295145034790039, \"target_output\": \"Sony Corporation\", \"category\": \"Subsidiary\", \"prompt\": \"Sony Music Japan is a subsidiary of\", \"scores\": [{\"name\": \"factual_knowledge\", \"value\": 0}]}\n",
      "\n",
      "{\"model_input\": \"Aegon UK is a subsidiary of\", \"model_output\": \" the British company, which is based in the UK.\\n\", \"model_log_probability\": -4.453802108764648, \"target_output\": \"Aegon N.V.\", \"category\": \"Subsidiary\", \"prompt\": \"Aegon UK is a subsidiary of\", \"scores\": [{\"name\": \"factual_knowledge\", \"value\": 0}]}\n",
      "\n",
      "{\"model_input\": \"Bodley Head is a subsidiary of\", \"model_output\": \" the company that makes the popular \\\"Bodley Head\\\"\", \"model_log_probability\": -4.356463432312012, \"target_output\": \"Random House\", \"category\": \"Subsidiary\", \"prompt\": \"Bodley Head is a subsidiary of\", \"scores\": [{\"name\": \"factual_knowledge\", \"value\": 0}]}\n",
      "\n",
      "{\"model_input\": \"Anheuser-Busch is a subsidiary of\", \"model_output\": \" Bayer AG, which is the world's largest producer\", \"model_log_probability\": -2.6569879055023193, \"target_output\": \"Anheuser-Busch InBev\", \"category\": \"Subsidiary\", \"prompt\": \"Anheuser-Busch is a subsidiary of\", \"scores\": [{\"name\": \"factual_knowledge\", \"value\": 0}]}\n",
      "\n",
      "{\"model_input\": \"MDA Space Missions is a subsidiary of\", \"model_output\": \" the National Aeronautics and Space Administration (NASA)\", \"model_log_probability\": -5.529396057128906, \"target_output\": \"MacDonald Dettwiler\", \"category\": \"Subsidiary\", \"prompt\": \"MDA Space Missions is a subsidiary of\", \"scores\": [{\"name\": \"factual_knowledge\", \"value\": 0}]}\n",
      "\n",
      "{\"model_input\": \"Marvel Productions is a subsidiary of\", \"model_output\": \" Warner Bros. Television.\\n\\nThe series is produced by David A\", \"model_log_probability\": -4.686968803405762, \"target_output\": \"Marvel Entertainment Group\", \"category\": \"Subsidiary\", \"prompt\": \"Marvel Productions is a subsidiary of\", \"scores\": [{\"name\": \"factual_knowledge\", \"value\": 0}]}\n",
      "\n",
      "{\"model_input\": \"Granada Sky Broadcasting is a subsidiary of\", \"model_output\": \" the National Broadcasting Corporation of India (NBCI).\", \"model_log_probability\": -4.685558795928955, \"target_output\": \"ITV plc\", \"category\": \"Subsidiary\", \"prompt\": \"Granada Sky Broadcasting is a subsidiary of\", \"scores\": [{\"name\": \"factual_knowledge\", \"value\": 0}]}\n",
      "\n",
      "{\"model_input\": \"Tata Motors is a subsidiary of\", \"model_output\": \" Tata Motors, Ltd. (Tata), a wholly-owned\", \"model_log_probability\": -3.8877720832824707, \"target_output\": \"Tata Group\", \"category\": \"Subsidiary\", \"prompt\": \"Tata Motors is a subsidiary of\", \"scores\": [{\"name\": \"factual_knowledge\", \"value\": 0}]}\n",
      "\n",
      "{\"model_input\": \"BBC Worldwide is a subsidiary of\", \"model_output\": \" the World Wide Web Consortium.\\n\\nThe World Wide Web Consortium is\", \"model_log_probability\": -4.115052223205566, \"target_output\": \"British Broadcasting Corporation\", \"category\": \"Subsidiary\", \"prompt\": \"BBC Worldwide is a subsidiary of\", \"scores\": [{\"name\": \"factual_knowledge\", \"value\": 0}]}\n",
      "\n",
      "{\"model_input\": \"Dofasco is a subsidiary of\", \"model_output\": \" the company.\\n\\nThe company's website states that it\", \"model_log_probability\": -4.305359840393066, \"target_output\": \"ArcelorMittal\", \"category\": \"Subsidiary\", \"prompt\": \"Dofasco is a subsidiary of\", \"scores\": [{\"name\": \"factual_knowledge\", \"value\": 0}]}\n",
      "\n",
      "{\"model_input\": \"Atco Records is a subsidiary of\", \"model_output\": \" the Warner Bros. Entertainment Group.\\n\\nThe band's first\", \"model_log_probability\": -4.597936153411865, \"target_output\": \"Warner Music Group\", \"category\": \"Subsidiary\", \"prompt\": \"Atco Records is a subsidiary of\", \"scores\": [{\"name\": \"factual_knowledge\", \"value\": 0}]}\n",
      "\n",
      "{\"model_input\": \"Fox Entertainment Group is a subsidiary of\", \"model_output\": \" Sony Computer Entertainment Inc. and is owned by Sony Computer Entertainment Inc\", \"model_log_probability\": -4.1518659591674805, \"target_output\": \"21st Century Fox\", \"category\": \"Subsidiary\", \"prompt\": \"Fox Entertainment Group is a subsidiary of\", \"scores\": [{\"name\": \"factual_knowledge\", \"value\": 0}]}\n",
      "\n",
      "{\"model_input\": \"The Selmer Company is a subsidiary of\", \"model_output\": \" the Selmer Company, Inc.\\n\\nThe Selmer\", \"model_log_probability\": -4.177712440490723, \"target_output\": \"Steinway Musical Instruments\", \"category\": \"Subsidiary\", \"prompt\": \"The Selmer Company is a subsidiary of\", \"scores\": [{\"name\": \"factual_knowledge\", \"value\": 0}]}\n",
      "\n",
      "{\"model_input\": \"YTL Power is a subsidiary of\", \"model_output\": \" the Japanese company, Koei Tecmo.\\n\\nThe\", \"model_log_probability\": -5.489797115325928, \"target_output\": \"YTL Corporation\", \"category\": \"Subsidiary\", \"prompt\": \"YTL Power is a subsidiary of\", \"scores\": [{\"name\": \"factual_knowledge\", \"value\": 0}]}\n",
      "\n",
      "{\"model_input\": \"Hasbro Interactive is a subsidiary of\", \"model_output\": \" Activision Publishing, Inc. All rights reserved.\\n\\nThe following\", \"model_log_probability\": -4.212895393371582, \"target_output\": \"Hasbro\", \"category\": \"Subsidiary\", \"prompt\": \"Hasbro Interactive is a subsidiary of\", \"scores\": [{\"name\": \"factual_knowledge\", \"value\": 0}]}\n",
      "\n",
      "{\"model_input\": \"Dentsu Aegis Network is a subsidiary of\", \"model_output\": \" the Aegis Network Corporation.\\n\\nThe Aeg\", \"model_log_probability\": -5.508026123046875, \"target_output\": \"Dentsu\", \"category\": \"Subsidiary\", \"prompt\": \"Dentsu Aegis Network is a subsidiary of\", \"scores\": [{\"name\": \"factual_knowledge\", \"value\": 0}]}\n",
      "\n",
      "{\"model_input\": \"Def Jam Recordings is a subsidiary of\", \"model_output\": \" the National Association of Manufacturers.\\n\\nThe National Association\", \"model_log_probability\": -5.186907768249512, \"target_output\": \"Universal Music Group\", \"category\": \"Subsidiary\", \"prompt\": \"Def Jam Recordings is a subsidiary of\", \"scores\": [{\"name\": \"factual_knowledge\", \"value\": 0}]}\n",
      "\n",
      "{\"model_input\": \"Packard Bell is a subsidiary of\", \"model_output\": \" Bell Media, Inc.\\n\\nThe company is a subsidiary of\", \"model_log_probability\": -4.619071006774902, \"target_output\": \"Acer\", \"category\": \"Subsidiary\", \"prompt\": \"Packard Bell is a subsidiary of\", \"scores\": [{\"name\": \"factual_knowledge\", \"value\": 0}]}\n",
      "\n",
      "{\"model_input\": \"News Limited is a subsidiary of\", \"model_output\": \" The Daily Telegraph Limited.\\n\\nThe Daily Telegraph Limited is a subsidiary\", \"model_log_probability\": -3.9288837909698486, \"target_output\": \"News Corporation\", \"category\": \"Subsidiary\", \"prompt\": \"News Limited is a subsidiary of\", \"scores\": [{\"name\": \"factual_knowledge\", \"value\": 0}]}\n",
      "\n",
      "{\"model_input\": \"Loblaw Companies Limited is a subsidiary of\", \"model_output\": \" the British Petroleum Company Limited.\\n\\nThe company is\", \"model_log_probability\": -4.163554668426514, \"target_output\": \"George Weston Limited\", \"category\": \"Subsidiary\", \"prompt\": \"Loblaw Companies Limited is a subsidiary of\", \"scores\": [{\"name\": \"factual_knowledge\", \"value\": 0}]}\n",
      "\n",
      "{\"model_input\": \"BAE Systems Electronics & Integrated Solutions is a subsidiary of\", \"model_output\": \" Yingli Group, a global technology and services\", \"model_log_probability\": -4.29330587387085, \"target_output\": \"BAE Systems\", \"category\": \"Subsidiary\", \"prompt\": \"BAE Systems Electronics & Integrated Solutions is a subsidiary of\", \"scores\": [{\"name\": \"factual_knowledge\", \"value\": 0}]}\n",
      "\n",
      "{\"model_input\": \"GE Capital is a subsidiary of\", \"model_output\": \" the U.S. Bank of New York Mellon.\\n\\nThe\", \"model_log_probability\": -5.387513637542725, \"target_output\": \"General Electric\", \"category\": \"Subsidiary\", \"prompt\": \"GE Capital is a subsidiary of\", \"scores\": [{\"name\": \"factual_knowledge\", \"value\": 0}]}\n",
      "\n",
      "{\"model_input\": \"Pedigree Petfoods is a subsidiary of\", \"model_output\": \" the American Pet Food Association.\\n\\nThe company's\", \"model_log_probability\": -4.853638648986816, \"target_output\": \"Mars, Incorporated\", \"category\": \"Subsidiary\", \"prompt\": \"Pedigree Petfoods is a subsidiary of\", \"scores\": [{\"name\": \"factual_knowledge\", \"value\": 0}]}\n",
      "\n",
      "{\"model_input\": \"Georgia-Pacific Corporation is a subsidiary of\", \"model_output\": \" the U.S. Department of Commerce.\\n\\nThe\", \"model_log_probability\": -3.763169050216675, \"target_output\": \"Koch Industries\", \"category\": \"Subsidiary\", \"prompt\": \"Georgia-Pacific Corporation is a subsidiary of\", \"scores\": [{\"name\": \"factual_knowledge\", \"value\": 0}]}\n",
      "\n",
      "{\"model_input\": \"Vodafone Italia is a subsidiary of\", \"model_output\": \" the Italian company, Vodafone, which\", \"model_log_probability\": -2.965726852416992, \"target_output\": \"Vodafone Group plc\", \"category\": \"Subsidiary\", \"prompt\": \"Vodafone Italia is a subsidiary of\", \"scores\": [{\"name\": \"factual_knowledge\", \"value\": 0}]}\n",
      "\n",
      "{\"model_input\": \"Air Nelson is a subsidiary of\", \"model_output\": \" the company that manufactures the world's most popular and popular sports cars.\", \"model_log_probability\": -5.426316738128662, \"target_output\": \"Air New Zealand\", \"category\": \"Subsidiary\", \"prompt\": \"Air Nelson is a subsidiary of\", \"scores\": [{\"name\": \"factual_knowledge\", \"value\": 0}]}\n",
      "\n",
      "{\"model_input\": \"Universal Music Group Distribution is a subsidiary of\", \"model_output\": \" Universal Music Group, Inc.\\n\\nThe following is a\", \"model_log_probability\": -3.976041078567505, \"target_output\": \"Vivendi\", \"category\": \"Subsidiary\", \"prompt\": \"Universal Music Group Distribution is a subsidiary of\", \"scores\": [{\"name\": \"factual_knowledge\", \"value\": 0}]}\n",
      "\n",
      "{\"model_input\": \"National Jet Systems is a subsidiary of\", \"model_output\": \" Boeing Co., Ltd. (BIN) which is a holder\", \"model_log_probability\": -5.189549922943115, \"target_output\": \"Cobham plc\", \"category\": \"Subsidiary\", \"prompt\": \"National Jet Systems is a subsidiary of\", \"scores\": [{\"name\": \"factual_knowledge\", \"value\": 0}]}\n",
      "\n",
      "{\"model_input\": \"Istithmar is a subsidiary of\", \"model_output\": \" the German company, K\\u00f6ln-Bilderberg\", \"model_log_probability\": -5.299121379852295, \"target_output\": \"Dubai World\", \"category\": \"Subsidiary\", \"prompt\": \"Istithmar is a subsidiary of\", \"scores\": [{\"name\": \"factual_knowledge\", \"value\": 0}]}\n",
      "\n",
      "{\"model_input\": \"SouthernLINC Wireless is a subsidiary of\", \"model_output\": \" the Wireless Telecommunications Company of America (WTCA). The\", \"model_log_probability\": -6.580975532531738, \"target_output\": \"Southern Company\", \"category\": \"Subsidiary\", \"prompt\": \"SouthernLINC Wireless is a subsidiary of\", \"scores\": [{\"name\": \"factual_knowledge\", \"value\": 0}]}\n",
      "\n",
      "{\"model_input\": \"GOG.com is a subsidiary of\", \"model_output\": \" GOG.com Inc.\\n\\nGOG.com\", \"model_log_probability\": -3.1231184005737305, \"target_output\": \"CD Projekt\", \"category\": \"Subsidiary\", \"prompt\": \"GOG.com is a subsidiary of\", \"scores\": [{\"name\": \"factual_knowledge\", \"value\": 0}]}\n",
      "\n",
      "{\"model_input\": \"DB Regio AG is a subsidiary of\", \"model_output\": \" the German company, GmbH.\\n\\nThe company\", \"model_log_probability\": -5.801039695739746, \"target_output\": \"Deutsche Bahn<OR>Deutsche Bahn AG\", \"category\": \"Subsidiary\", \"prompt\": \"DB Regio AG is a subsidiary of\", \"scores\": [{\"name\": \"factual_knowledge\", \"value\": 0}]}\n",
      "\n",
      "{\"model_input\": \"Scottish Equitable is a subsidiary of\", \"model_output\": \" the Scottish Government.\\n\\nThe Scottish Government has been working\", \"model_log_probability\": -5.2066650390625, \"target_output\": \"Aegon N.V.\", \"category\": \"Subsidiary\", \"prompt\": \"Scottish Equitable is a subsidiary of\", \"scores\": [{\"name\": \"factual_knowledge\", \"value\": 0}]}\n",
      "\n",
      "{\"model_input\": \"Scottish Airlines is a subsidiary of\", \"model_output\": \" the British Airways Group.\\n\\nThe airline has been in business\", \"model_log_probability\": -4.173510551452637, \"target_output\": \"Scottish Aviation\", \"category\": \"Subsidiary\", \"prompt\": \"Scottish Airlines is a subsidiary of\", \"scores\": [{\"name\": \"factual_knowledge\", \"value\": 0}]}\n",
      "\n",
      "{\"model_input\": \"Tibotec is a subsidiary of\", \"model_output\": \" the company that manufactures the T-Mobile network.\\n\\n\", \"model_log_probability\": -4.295111656188965, \"target_output\": \"Johnson & Johnson\", \"category\": \"Subsidiary\", \"prompt\": \"Tibotec is a subsidiary of\", \"scores\": [{\"name\": \"factual_knowledge\", \"value\": 0}]}\n",
      "\n",
      "{\"model_input\": \"FTSE Group is a subsidiary of\", \"model_output\": \" the TSX Venture Exchange.\\n\\nThe TSX Venture\", \"model_log_probability\": -3.9719855785369873, \"target_output\": \"London Stock Exchange Group\", \"category\": \"Subsidiary\", \"prompt\": \"FTSE Group is a subsidiary of\", \"scores\": [{\"name\": \"factual_knowledge\", \"value\": 0}]}\n",
      "\n",
      "{\"model_input\": \"Disney Regional Entertainment is a subsidiary of\", \"model_output\": \" Disney.\\n\\nThe company's parent company, Disney, is\", \"model_log_probability\": -5.123971462249756, \"target_output\": \"Walt Disney Company<OR>The Walt Disney Company\", \"category\": \"Subsidiary\", \"prompt\": \"Disney Regional Entertainment is a subsidiary of\", \"scores\": [{\"name\": \"factual_knowledge\", \"value\": 0}]}\n",
      "\n",
      "{\"model_input\": \"Newsquest media group is a subsidiary of\", \"model_output\": \" the American Enterprise Institute, a conservative think tank.\\n\\n\", \"model_log_probability\": -5.852225303649902, \"target_output\": \"Gannett\", \"category\": \"Subsidiary\", \"prompt\": \"Newsquest media group is a subsidiary of\", \"scores\": [{\"name\": \"factual_knowledge\", \"value\": 0}]}\n",
      "\n",
      "{\"model_input\": \"Telemundo is a subsidiary of\", \"model_output\": \" the company that makes the popular \\\"Pizza Hut\\\" pizza.\", \"model_log_probability\": -3.7904179096221924, \"target_output\": \"NBCUniversal\", \"category\": \"Subsidiary\", \"prompt\": \"Telemundo is a subsidiary of\", \"scores\": [{\"name\": \"factual_knowledge\", \"value\": 0}]}\n",
      "\n",
      "{\"model_input\": \"Assurances G\\u00e9n\\u00e9rales de France is a subsidiary of\", \"model_output\": \" the French government.\\n\\nThe\", \"model_log_probability\": -4.485700607299805, \"target_output\": \"Allianz SE\", \"category\": \"Subsidiary\", \"prompt\": \"Assurances G\\u00e9n\\u00e9rales de France is a subsidiary of\", \"scores\": [{\"name\": \"factual_knowledge\", \"value\": 0}]}\n",
      "\n",
      "{\"model_input\": \"Universal Studios Theme Parks is a subsidiary of\", \"model_output\": \" Universal Studios Japan.\\n\\nThe theme park is located in\", \"model_log_probability\": -4.2636237144470215, \"target_output\": \"NBCUniversal\", \"category\": \"Subsidiary\", \"prompt\": \"Universal Studios Theme Parks is a subsidiary of\", \"scores\": [{\"name\": \"factual_knowledge\", \"value\": 0}]}\n",
      "\n",
      "{\"model_input\": \"Selmer is a subsidiary of\", \"model_output\": \" the company that makes the popular \\\"Pizza Hut\\\" pizza.\\n\", \"model_log_probability\": -5.081475257873535, \"target_output\": \"Steinway Musical Instruments\", \"category\": \"Subsidiary\", \"prompt\": \"Selmer is a subsidiary of\", \"scores\": [{\"name\": \"factual_knowledge\", \"value\": 0}]}\n",
      "\n",
      "{\"model_input\": \"Eurowings is a subsidiary of\", \"model_output\": \" the company that makes the popular \\\"Pizza Hut\\\" pizza\", \"model_log_probability\": -4.380657196044922, \"target_output\": \"Lufthansa Group\", \"category\": \"Subsidiary\", \"prompt\": \"Eurowings is a subsidiary of\", \"scores\": [{\"name\": \"factual_knowledge\", \"value\": 0}]}\n",
      "\n",
      "{\"model_input\": \"Nokia Siemens Networks is a subsidiary of\", \"model_output\": \" Nokia Siemens Networks, a subsidiary of Nokia Siemens\", \"model_log_probability\": -3.612121105194092, \"target_output\": \"Nokia Corporation<OR>Nokia\", \"category\": \"Subsidiary\", \"prompt\": \"Nokia Siemens Networks is a subsidiary of\", \"scores\": [{\"name\": \"factual_knowledge\", \"value\": 1}]}\n",
      "\n",
      "{\"model_input\": \"Sky UK Limited is a subsidiary of\", \"model_output\": \" the British Broadcasting Corporation (BBC) and is owned by the BBC\", \"model_log_probability\": -4.7182464599609375, \"target_output\": \"Sky plc\", \"category\": \"Subsidiary\", \"prompt\": \"Sky UK Limited is a subsidiary of\", \"scores\": [{\"name\": \"factual_knowledge\", \"value\": 0}]}\n",
      "\n",
      "{\"model_input\": \"Cell C is a subsidiary of\", \"model_output\": \" the company that manufactures the C-130.\\n\\nThe C-\", \"model_log_probability\": -5.188897609710693, \"target_output\": \"Saudi Oger\", \"category\": \"Subsidiary\", \"prompt\": \"Cell C is a subsidiary of\", \"scores\": [{\"name\": \"factual_knowledge\", \"value\": 0}]}\n",
      "\n",
      "{\"model_input\": \"Germanwings is a subsidiary of\", \"model_output\": \" the Germanwings Group, which is based in the Netherlands.\\n\\n\", \"model_log_probability\": -4.446832180023193, \"target_output\": \"Lufthansa\", \"category\": \"Subsidiary\", \"prompt\": \"Germanwings is a subsidiary of\", \"scores\": [{\"name\": \"factual_knowledge\", \"value\": 0}]}\n",
      "\n",
      "{\"model_input\": \"Digital Telecommunications Philippines is a subsidiary of\", \"model_output\": \" the Philippine Telecommunications Corporation (PTC) and is a subsidiary of\", \"model_log_probability\": -5.864299297332764, \"target_output\": \"Philippine Long Distance Telephone Company (PLDT)\", \"category\": \"Subsidiary\", \"prompt\": \"Digital Telecommunications Philippines is a subsidiary of\", \"scores\": [{\"name\": \"factual_knowledge\", \"value\": 0}]}\n",
      "\n",
      "{\"model_input\": \"Danger Close Games is a subsidiary of\", \"model_output\": \" the company that makes the popular game, The Last of Us\", \"model_log_probability\": -4.754765510559082, \"target_output\": \"DreamWorks SKG\", \"category\": \"Subsidiary\", \"prompt\": \"Danger Close Games is a subsidiary of\", \"scores\": [{\"name\": \"factual_knowledge\", \"value\": 0}]}\n",
      "\n",
      "{\"model_input\": \"Everything Everywhere is a subsidiary of\", \"model_output\": \" the National Endowment for Democracy, a nonprofit organization that supports democracy and\", \"model_log_probability\": -5.247777938842773, \"target_output\": \"BT Group\", \"category\": \"Subsidiary\", \"prompt\": \"Everything Everywhere is a subsidiary of\", \"scores\": [{\"name\": \"factual_knowledge\", \"value\": 0}]}\n",
      "\n",
      "{\"model_input\": \"HSBC Bank plc is a subsidiary of\", \"model_output\": \" the Bank of England.\\n\\nThe bank has been\", \"model_log_probability\": -4.085655212402344, \"target_output\": \"HSBC Holdings\", \"category\": \"Subsidiary\", \"prompt\": \"HSBC Bank plc is a subsidiary of\", \"scores\": [{\"name\": \"factual_knowledge\", \"value\": 0}]}\n",
      "\n",
      "{\"model_input\": \"Norcem is a subsidiary of\", \"model_output\": \" the company that makes the Magic: The Gathering card game.\\n\", \"model_log_probability\": -5.209221839904785, \"target_output\": \"HeidelbergCement\", \"category\": \"Subsidiary\", \"prompt\": \"Norcem is a subsidiary of\", \"scores\": [{\"name\": \"factual_knowledge\", \"value\": 0}]}\n",
      "\n",
      "{\"model_input\": \"Universal Parks & Resorts is a subsidiary of\", \"model_output\": \" the National Park Service.\\n\\nThe National Park Service\", \"model_log_probability\": -3.5468244552612305, \"target_output\": \"NBCUniversal\", \"category\": \"Subsidiary\", \"prompt\": \"Universal Parks & Resorts is a subsidiary of\", \"scores\": [{\"name\": \"factual_knowledge\", \"value\": 0}]}\n",
      "\n",
      "{\"model_input\": \"MD Robotics is a subsidiary of\", \"model_output\": \" the company that developed the first robotic arm.\\n\\nThe company's\", \"model_log_probability\": -4.9984846115112305, \"target_output\": \"MacDonald Dettwiler\", \"category\": \"Subsidiary\", \"prompt\": \"MD Robotics is a subsidiary of\", \"scores\": [{\"name\": \"factual_knowledge\", \"value\": 0}]}\n",
      "\n",
      "{\"model_input\": \"Exit Tunes is a subsidiary of\", \"model_output\": \" the company that makes the popular music streaming service Spotify.\\n\\n\", \"model_log_probability\": -5.503989219665527, \"target_output\": \"Pony Canyon\", \"category\": \"Subsidiary\", \"prompt\": \"Exit Tunes is a subsidiary of\", \"scores\": [{\"name\": \"factual_knowledge\", \"value\": 0}]}\n",
      "\n",
      "{\"model_input\": \"Kenworth is a subsidiary of\", \"model_output\": \" the company.\\n\\nThe company's website says it has a \\\"\", \"model_log_probability\": -4.945852756500244, \"target_output\": \"Paccar\", \"category\": \"Subsidiary\", \"prompt\": \"Kenworth is a subsidiary of\", \"scores\": [{\"name\": \"factual_knowledge\", \"value\": 0}]}\n",
      "\n",
      "{\"model_input\": \"BellSouth Corporation is a subsidiary of\", \"model_output\": \" the National Association of Broadcasters.\\n\\nThe FCC has been\", \"model_log_probability\": -4.4247517585754395, \"target_output\": \"AT&T Inc.\", \"category\": \"Subsidiary\", \"prompt\": \"BellSouth Corporation is a subsidiary of\", \"scores\": [{\"name\": \"factual_knowledge\", \"value\": 0}]}\n",
      "\n",
      "{\"model_input\": \"Audi is a subsidiary of\", \"model_output\": \" BMW AG, which is owned by the German automaker.\\n\\n\", \"model_log_probability\": -3.851527452468872, \"target_output\": \"Volkswagen Group\", \"category\": \"Subsidiary\", \"prompt\": \"Audi is a subsidiary of\", \"scores\": [{\"name\": \"factual_knowledge\", \"value\": 0}]}\n",
      "\n",
      "{\"model_input\": \"Baskin-Robbins is a subsidiary of\", \"model_output\": \" the National Basketball Association.\\n\\nThe NBA\", \"model_log_probability\": -2.375575065612793, \"target_output\": \"Dunkin' Brands\", \"category\": \"Subsidiary\", \"prompt\": \"Baskin-Robbins is a subsidiary of\", \"scores\": [{\"name\": \"factual_knowledge\", \"value\": 0}]}\n",
      "\n",
      "{\"model_input\": \"Chartered Industries is a subsidiary of\", \"model_output\": \" the National Association of Manufacturers.\\n\\nThe National Association of\", \"model_log_probability\": -4.619232177734375, \"target_output\": \"ST Engineering\", \"category\": \"Subsidiary\", \"prompt\": \"Chartered Industries is a subsidiary of\", \"scores\": [{\"name\": \"factual_knowledge\", \"value\": 0}]}\n",
      "\n",
      "{\"model_input\": \"Seiko Instruments is a subsidiary of\", \"model_output\": \" the Japanese electronics company, which is based in Tokyo.\\n\\n\", \"model_log_probability\": -4.395401954650879, \"target_output\": \"Seiko\", \"category\": \"Subsidiary\", \"prompt\": \"Seiko Instruments is a subsidiary of\", \"scores\": [{\"name\": \"factual_knowledge\", \"value\": 0}]}\n",
      "\n",
      "{\"model_input\": \"General Dynamics Electric Boat is a subsidiary of\", \"model_output\": \" the National Oceanic and Atmospheric Administration (NOAA).\\n\", \"model_log_probability\": -4.923946380615234, \"target_output\": \"General Dynamics Corporation\", \"category\": \"Subsidiary\", \"prompt\": \"General Dynamics Electric Boat is a subsidiary of\", \"scores\": [{\"name\": \"factual_knowledge\", \"value\": 0}]}\n",
      "\n",
      "{\"model_input\": \"Marvel Television is a subsidiary of\", \"model_output\": \" CBS Television Studios.\\n\\nContents show]\\n\\nHistory\\n\\n\", \"model_log_probability\": -4.385214328765869, \"target_output\": \"Marvel Entertainment\", \"category\": \"Subsidiary\", \"prompt\": \"Marvel Television is a subsidiary of\", \"scores\": [{\"name\": \"factual_knowledge\", \"value\": 0}]}\n",
      "\n",
      "{\"model_input\": \"PopCap Games is a subsidiary of\", \"model_output\": \" the publisher of the popular video game series, The Legend of Zelda\", \"model_log_probability\": -4.240814685821533, \"target_output\": \"Electronic Arts\", \"category\": \"Subsidiary\", \"prompt\": \"PopCap Games is a subsidiary of\", \"scores\": [{\"name\": \"factual_knowledge\", \"value\": 0}]}\n",
      "\n",
      "{\"model_input\": \"Telsim is a subsidiary of\", \"model_output\": \" the company that makes the popular Telsim T-shirt.\", \"model_log_probability\": -4.389084815979004, \"target_output\": \"Vodafone Group\", \"category\": \"Subsidiary\", \"prompt\": \"Telsim is a subsidiary of\", \"scores\": [{\"name\": \"factual_knowledge\", \"value\": 0}]}\n",
      "\n",
      "{\"model_input\": \"Imagine Games Network is a subsidiary of\", \"model_output\": \" the Interactive Entertainment Group, Inc. (the \\\"EA\\\"). The\", \"model_log_probability\": -6.008262634277344, \"target_output\": \"j2 Global\", \"category\": \"Subsidiary\", \"prompt\": \"Imagine Games Network is a subsidiary of\", \"scores\": [{\"name\": \"factual_knowledge\", \"value\": 0}]}\n",
      "\n",
      "{\"model_input\": \"Activision is a subsidiary of\", \"model_output\": \" Activision Publishing, Inc. All rights reserved. Activision Publishing, Inc.\", \"model_log_probability\": -4.237635135650635, \"target_output\": \"Activision Blizzard\", \"category\": \"Subsidiary\", \"prompt\": \"Activision is a subsidiary of\", \"scores\": [{\"name\": \"factual_knowledge\", \"value\": 0}]}\n",
      "\n",
      "{\"model_input\": \"NetJets is a subsidiary of\", \"model_output\": \" the National Hockey League's Minnesota Wild.\\n\\nThe NHL's\", \"model_log_probability\": -4.451101303100586, \"target_output\": \"Berkshire Hathaway\", \"category\": \"Subsidiary\", \"prompt\": \"NetJets is a subsidiary of\", \"scores\": [{\"name\": \"factual_knowledge\", \"value\": 0}]}\n",
      "\n",
      "{\"model_input\": \"Binney & Smith is a subsidiary of\", \"model_output\": \" the American Film Institute.\\n\\nThe film is based\", \"model_log_probability\": -4.056295394897461, \"target_output\": \"Hallmark Cards\", \"category\": \"Subsidiary\", \"prompt\": \"Binney & Smith is a subsidiary of\", \"scores\": [{\"name\": \"factual_knowledge\", \"value\": 0}]}\n",
      "\n",
      "{\"model_input\": \"Toei Animation is a subsidiary of\", \"model_output\": \" Fuji TV.\\n\\nSource: Anime News Network<|endoftext|>\", \"model_log_probability\": -3.7069191932678223, \"target_output\": \"Toei Company\", \"category\": \"Subsidiary\", \"prompt\": \"Toei Animation is a subsidiary of\", \"scores\": [{\"name\": \"factual_knowledge\", \"value\": 0}]}\n",
      "\n",
      "{\"model_input\": \"RTL Group is a subsidiary of\", \"model_output\": \" the German-owned German-owned German-owned German-owned\", \"model_log_probability\": -4.1270833015441895, \"target_output\": \"Bertelsmann\", \"category\": \"Subsidiary\", \"prompt\": \"RTL Group is a subsidiary of\", \"scores\": [{\"name\": \"factual_knowledge\", \"value\": 0}]}\n",
      "\n",
      "{\"model_input\": \"Marvel Animation is a subsidiary of\", \"model_output\": \" Marvel Entertainment.\\n\\nContents show]\\n\\nHistory\\n\\nThe\", \"model_log_probability\": -4.776708126068115, \"target_output\": \"Marvel Television\", \"category\": \"Subsidiary\", \"prompt\": \"Marvel Animation is a subsidiary of\", \"scores\": [{\"name\": \"factual_knowledge\", \"value\": 0}]}\n",
      "\n",
      "{\"model_input\": \"Zipcar is a subsidiary of\", \"model_output\": \" the American Automobile Association.\\n\\nThe company's website states that\", \"model_log_probability\": -4.623556613922119, \"target_output\": \"Avis Budget Group\", \"category\": \"Subsidiary\", \"prompt\": \"Zipcar is a subsidiary of\", \"scores\": [{\"name\": \"factual_knowledge\", \"value\": 0}]}\n",
      "\n",
      "{\"model_input\": \"Google China is a subsidiary of\", \"model_output\": \" China Unicom, a Chinese telecommunications company.\\n\\nThe company's\", \"model_log_probability\": -4.867428779602051, \"target_output\": \"Google\", \"category\": \"Subsidiary\", \"prompt\": \"Google China is a subsidiary of\", \"scores\": [{\"name\": \"factual_knowledge\", \"value\": 0}]}\n",
      "\n",
      "{\"model_input\": \"YouTube is a subsidiary of\", \"model_output\": \" the company that makes the popular YouTube app.\\n\\nThe company's website\", \"model_log_probability\": -4.805990695953369, \"target_output\": \"Google\", \"category\": \"Subsidiary\", \"prompt\": \"YouTube is a subsidiary of\", \"scores\": [{\"name\": \"factual_knowledge\", \"value\": 0}]}\n",
      "\n",
      "{\"model_input\": \"Frigidaire is a subsidiary of\", \"model_output\": \" the French company, which is based in the French capital.\", \"model_log_probability\": -3.563249349594116, \"target_output\": \"Electrolux\", \"category\": \"Subsidiary\", \"prompt\": \"Frigidaire is a subsidiary of\", \"scores\": [{\"name\": \"factual_knowledge\", \"value\": 0}]}\n",
      "\n",
      "{\"model_input\": \"Hongkong Bank is a subsidiary of\", \"model_output\": \" the Bank of Korea.\\n\\nThe bank is the largest\", \"model_log_probability\": -4.314437389373779, \"target_output\": \"HSBC Holdings plc\", \"category\": \"Subsidiary\", \"prompt\": \"Hongkong Bank is a subsidiary of\", \"scores\": [{\"name\": \"factual_knowledge\", \"value\": 0}]}\n",
      "\n",
      "{\"model_input\": \"Signaal is a subsidiary of\", \"model_output\": \" the company that makes the popular \\\"Pizza Hut\\\" pizza.\", \"model_log_probability\": -5.156634330749512, \"target_output\": \"Thales Group\", \"category\": \"Subsidiary\", \"prompt\": \"Signaal is a subsidiary of\", \"scores\": [{\"name\": \"factual_knowledge\", \"value\": 0}]}\n",
      "\n",
      "{\"model_input\": \"Primark is a subsidiary of\", \"model_output\": \" the company that makes the popular Star Wars: The Force Awakens.\\n\", \"model_log_probability\": -4.525201797485352, \"target_output\": \"Associated British Foods\", \"category\": \"Subsidiary\", \"prompt\": \"Primark is a subsidiary of\", \"scores\": [{\"name\": \"factual_knowledge\", \"value\": 0}]}\n",
      "\n",
      "{\"model_input\": \"China Xinhua Airlines is a subsidiary of\", \"model_output\": \" China Airlines Group, a subsidiary of China Airlines Group, a\", \"model_log_probability\": -4.652898788452148, \"target_output\": \"Hainan Airlines\", \"category\": \"Subsidiary\", \"prompt\": \"China Xinhua Airlines is a subsidiary of\", \"scores\": [{\"name\": \"factual_knowledge\", \"value\": 0}]}\n",
      "\n",
      "{\"model_input\": \"Vodafone Ireland is a subsidiary of\", \"model_output\": \" the Irish telecoms company.\\n\\nThe company has\", \"model_log_probability\": -2.989262104034424, \"target_output\": \"Vodafone Group\", \"category\": \"Subsidiary\", \"prompt\": \"Vodafone Ireland is a subsidiary of\", \"scores\": [{\"name\": \"factual_knowledge\", \"value\": 0}]}\n"
     ]
    }
   ],
   "source": [
    "# Show saved output\n",
    "with open('/tmp/eval_results/factual_knowledge_TREX.jsonl') as f:\n",
    "\tfor line in f:\n",
    "\t\tprint(line)"
   ],
   "metadata": {
    "collapsed": false,
    "pycharm": {
     "is_executing": true
    },
    "ExecuteTime": {
     "end_time": "2023-10-11T03:27:35.871747Z",
     "start_time": "2023-10-11T03:27:35.848940Z"
    }
   }
  }
 ],
 "metadata": {
  "kernelspec": {
   "display_name": "Python 3",
   "language": "python",
   "name": "python3"
  },
  "language_info": {
   "codemirror_mode": {
    "name": "ipython",
    "version": 2
   },
   "file_extension": ".py",
   "mimetype": "text/x-python",
   "name": "python",
   "nbconvert_exporter": "python",
   "pygments_lexer": "ipython2",
   "version": "2.7.6"
  }
 },
 "nbformat": 4,
 "nbformat_minor": 0
}

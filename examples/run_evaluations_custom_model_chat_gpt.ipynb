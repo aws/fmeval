{
 "cells": [
  {
   "cell_type": "code",
   "execution_count": 2,
   "metadata": {
    "ExecuteTime": {
     "end_time": "2023-10-10T22:25:12.260652Z",
     "start_time": "2023-10-10T22:25:04.852238Z"
    },
    "collapsed": false,
    "jupyter": {
     "outputs_hidden": false
    }
   },
   "outputs": [],
   "source": [
    "from dataclasses import dataclass\n",
    "from typing import Tuple, Optional\n",
    "\n",
    "import requests\n",
    "import json\n",
    "\n",
    "from amazon_fmeval.model_runners.model_runner import ModelRunner\n",
    "from amazon_fmeval.eval_algo_mapping import get_eval_algorithm\n",
    "from amazon_fmeval. eval_algorithms.factual_knowledge import FactualKnowledgeConfig"
   ]
  },
  {
   "cell_type": "code",
   "execution_count": 3,
   "metadata": {
    "ExecuteTime": {
     "end_time": "2023-10-10T22:25:17.603116Z",
     "start_time": "2023-10-10T22:25:17.580427Z"
    },
    "collapsed": true,
    "jupyter": {
     "outputs_hidden": true
    }
   },
   "outputs": [],
   "source": [
    "# Create ChatGPT Custom ModelRunner\n",
    "@dataclass\n",
    "class ChatGPTModelConfig:\n",
    "\ttemperature: float\n",
    "\ttop_p: float\n",
    "\tmax_tokens: int\n",
    "\tapi_key: str\n",
    "\n",
    "\n",
    "class ChatGPTModelRunner(ModelRunner):\n",
    "\turl = \"https://api.openai.com/v1/chat/completions\"\n",
    "\n",
    "\tdef __init__(self, model_config: ChatGPTModelConfig):\n",
    "\t\tself.config = model_config\n",
    "\n",
    "\tdef predict(self, prompt: str) -> Tuple[Optional[str], Optional[float]]:\n",
    "\t\tpayload = json.dumps({\n",
    "\t\t\t\"model\": \"gpt-3.5-turbo\",\n",
    "\t\t\t\"messages\": [\n",
    "\t\t\t\t {\n",
    "\t\t\t\t\t \"role\": \"user\",\n",
    "\t\t\t\t\t \"content\": prompt\n",
    "\t\t\t\t }\n",
    "\t\t\t],\n",
    "\t\t\t\"temperature\": self.config.temperature,\n",
    "\t\t\t\"top_p\": self.config.top_p,\n",
    "\t\t\t\"n\": 1,\n",
    "\t\t\t\"stream\": False,\n",
    "\t\t\t\"max_tokens\": self.config.max_tokens,\n",
    "\t\t\t\"presence_penalty\": 0,\n",
    "\t\t\t\"frequency_penalty\": 0\n",
    "\t\t})\n",
    "\t\theaders = {\n",
    "\t\t\t 'Content-Type': 'application/json',\n",
    "\t\t\t 'Accept': 'application/json',\n",
    "\t\t\t 'Authorization': self.config.api_key\n",
    "\t\t}\n",
    "\n",
    "\t\tresponse = requests.request(\"POST\", self.url, headers=headers, data=payload)\n",
    "\n",
    "\t\treturn json.loads(response.text)[\"choices\"][0][\"message\"][\"content\"], None"
   ]
  },
  {
   "cell_type": "code",
   "execution_count": 4,
   "metadata": {
    "ExecuteTime": {
     "end_time": "2023-10-10T22:25:21.545789Z",
     "start_time": "2023-10-10T22:25:19.421401Z"
    },
    "collapsed": false,
    "jupyter": {
     "outputs_hidden": false
    }
   },
   "outputs": [
    {
     "name": "stdout",
     "output_type": "stream",
     "text": [
      "('London is the capital of England and the United Kingdom.', None)\n"
     ]
    }
   ],
   "source": [
    "# Validate Custom Model Runner\n",
    "# Note: Don't forget to include your api_key\n",
    "config = ChatGPTModelConfig(\n",
    "\tapi_key='',\n",
    "\ttemperature=1.0,\n",
    "\ttop_p=1.0,\n",
    "\tmax_tokens=250\n",
    ")\n",
    "model_runner = ChatGPTModelRunner(config)\n",
    "print(model_runner.predict(\"London is the capital of?\"))"
   ]
  },
  {
   "cell_type": "code",
   "execution_count": 5,
   "metadata": {
    "ExecuteTime": {
     "end_time": "2023-10-10T22:25:24.350013Z",
     "start_time": "2023-10-10T22:25:24.345135Z"
    },
    "collapsed": false,
    "jupyter": {
     "outputs_hidden": false
    }
   },
   "outputs": [],
   "source": [
    "# Evaluate factual_knowledge\n",
    "eval_algorithm_config = FactualKnowledgeConfig(\"<OR>\")\n",
    "eval_algo = get_eval_algorithm(\"factual_knowledge\")(eval_algorithm_config)"
   ]
  },
  {
   "cell_type": "code",
   "execution_count": 6,
   "metadata": {
    "ExecuteTime": {
     "end_time": "2023-10-10T22:25:28.791387Z",
     "start_time": "2023-10-10T22:25:26.769143Z"
    },
    "collapsed": false,
    "jupyter": {
     "outputs_hidden": false
    }
   },
   "outputs": [
    {
     "name": "stdout",
     "output_type": "stream",
     "text": [
      "London is the capital of England and the United Kingdom.\n"
     ]
    },
    {
     "data": {
      "text/plain": [
       "[EvalScore(name='factual_knowledge', value=1)]"
      ]
     },
     "execution_count": 6,
     "metadata": {},
     "output_type": "execute_result"
    }
   ],
   "source": [
    "# Evaluate your custom sample\n",
    "model_output = model_runner.predict(\"London is the capital of?\")[0]\n",
    "print(model_output)\n",
    "eval_algo.evaluate_sample(target_output=\"UK<OR>England<OR>United Kingdom\", model_output=model_output)"
   ]
  },
  {
   "cell_type": "code",
   "execution_count": null,
   "metadata": {
    "ExecuteTime": {
     "end_time": "2023-10-10T22:32:30.591437Z",
     "start_time": "2023-10-10T22:25:41.326234Z"
    },
    "collapsed": true,
    "jupyter": {
     "outputs_hidden": true
    },
    "pycharm": {
     "is_executing": true
    }
   },
   "outputs": [],
   "source": [
    "# Evaluate model with amazon-fmeval built-in dataset\n",
    "from amazon_fmeval.data_loaders.data_config import DataConfig\n",
    "dataset_config = DataConfig(\n",
    "        dataset_name=\"TREX\",\n",
    "        dataset_uri=\"/Users/amamalh/Desktop/Workplace/amazon-fmeval/examples/trex_sample.jsonl\",\n",
    "        dataset_mime_type=\"application/jsonlines\",\n",
    "        model_input_location=\"question\",\n",
    "        target_output_location=\"answers\",\n",
    "        category_location=\"knowledge_category\",\n",
    "    )\n",
    "\n",
    "# Evaluate model with amazon-fmeval built-in dataset\n",
    "eval_outputs = eval_algo.evaluate(model=model_runner, dataset_config=dataset_config, prompt_template=\"$feature\", save=True);"
   ]
  },
  {
   "cell_type": "code",
   "execution_count": 8,
   "metadata": {
    "ExecuteTime": {
     "end_time": "2023-10-10T22:32:30.602824Z",
     "start_time": "2023-10-10T22:32:30.596839Z"
    },
    "collapsed": false,
    "jupyter": {
     "outputs_hidden": false
    }
   },
   "outputs": [
    {
     "name": "stdout",
     "output_type": "stream",
     "text": [
      "[EvalOutput(eval_name='factual_knowledge', dataset_name='TREX', dataset_scores=[EvalScore(name='factual_knowledge', value=0.7611940298507462)], prompt_template='$feature', category_scores=[CategoryScore(name='Capitals', scores=[EvalScore(name='factual_knowledge', value=0.83)]), CategoryScore(name='Subsidiary', scores=[EvalScore(name='factual_knowledge', value=0.693069306930693)])], output_path='/tmp/eval_results/')]\n"
     ]
    }
   ],
   "source": [
    "# Show Evaluation outputs\n",
    "print(eval_outputs)"
   ]
  },
  {
   "cell_type": "code",
   "execution_count": 9,
   "metadata": {
    "ExecuteTime": {
     "end_time": "2023-10-10T22:32:30.662696Z",
     "start_time": "2023-10-10T22:32:30.607337Z"
    },
    "collapsed": false,
    "jupyter": {
     "outputs_hidden": false
    }
   },
   "outputs": [
    {
     "name": "stdout",
     "output_type": "stream",
     "text": [
      "{\"model_input\": \"Port au Prince is the capital of\", \"model_output\": \"Haiti.\", \"target_output\": \"Haiti\", \"category\": \"Capitals\", \"prompt\": \"Port au Prince is the capital of\", \"scores\": [{\"name\": \"factual_knowledge\", \"value\": 1}]}\n",
      "\n",
      "{\"model_input\": \"Cape Coast is the capital of\", \"model_output\": \"the Central Region of Ghana.\", \"target_output\": \"Central regional<OR>Central Region, Ghana\", \"category\": \"Capitals\", \"prompt\": \"Cape Coast is the capital of\", \"scores\": [{\"name\": \"factual_knowledge\", \"value\": 0}]}\n",
      "\n",
      "{\"model_input\": \"Toluca is the capital of\", \"model_output\": \"the State of Mexico in central Mexico.\", \"target_output\": \"Mexico State<OR>Estado de Mexico<OR>Mexico\", \"category\": \"Capitals\", \"prompt\": \"Toluca is the capital of\", \"scores\": [{\"name\": \"factual_knowledge\", \"value\": 1}]}\n",
      "\n",
      "{\"model_input\": \"Port Moresby is the capital of\", \"model_output\": \"Papua New Guinea.\", \"target_output\": \"Papua New Guinea<OR>Papua\", \"category\": \"Capitals\", \"prompt\": \"Port Moresby is the capital of\", \"scores\": [{\"name\": \"factual_knowledge\", \"value\": 1}]}\n",
      "\n",
      "{\"model_input\": \"Lucena City is the capital of\", \"model_output\": \"Lucena City is the capital of the province of Quezon, Philippines.\", \"target_output\": \"Quezon Province<OR>Quezon\", \"category\": \"Capitals\", \"prompt\": \"Lucena City is the capital of\", \"scores\": [{\"name\": \"factual_knowledge\", \"value\": 1}]}\n",
      "\n"
     ]
    }
   ],
   "source": [
    "# Show first five rows of saved output\n",
    "with open('/tmp/eval_results/factual_knowledge_TREX.jsonl') as f:\n",
    "\tlines = [next(f) for _ in range(5)]\n",
    "for line in lines:\n",
    "\tprint(line)"
   ]
  },
  {
   "cell_type": "code",
   "execution_count": null,
   "metadata": {
    "collapsed": false,
    "jupyter": {
     "outputs_hidden": false
    }
   },
   "outputs": [],
   "source": []
  }
 ],
 "metadata": {
  "kernelspec": {
   "display_name": "Python 3 (ipykernel)",
   "language": "python",
   "name": "python3"
  },
  "language_info": {
   "codemirror_mode": {
    "name": "ipython",
    "version": 3
   },
   "file_extension": ".py",
   "mimetype": "text/x-python",
   "name": "python",
   "nbconvert_exporter": "python",
   "pygments_lexer": "ipython3",
   "version": "3.10.13"
  }
 },
 "nbformat": 4,
 "nbformat_minor": 4
}

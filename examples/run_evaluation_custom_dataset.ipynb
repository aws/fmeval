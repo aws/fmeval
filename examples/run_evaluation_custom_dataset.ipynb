{
 "cells": [
  {
   "cell_type": "markdown",
   "metadata": {
    "collapsed": false
   },
   "source": [
    "## Step-by-step walk-through"
   ]
  },
  {
   "cell_type": "markdown",
   "metadata": {
    "collapsed": false
   },
   "source": [
    "### Step 1. Create a model runner (if model outputs are not provided in the custom dataset)"
   ]
  },
  {
   "cell_type": "code",
   "execution_count": null,
   "metadata": {
    "ExecuteTime": {
     "end_time": "2023-09-27T14:15:29.232066Z",
     "start_time": "2023-09-27T14:15:29.221201Z"
    },
    "collapsed": false
   },
   "outputs": [],
   "source": [
    "model = SageMakerModelRunner(endpoint_name=\"my_endpoint\", content_template, output_jmespath, prob_jmespath)"
   ]
  },
  {
   "cell_type": "markdown",
   "source": [
    "### Step 1.1 Create a dataset config for custom dataset\n"
   ],
   "metadata": {
    "collapsed": false
   }
  },
  {
   "cell_type": "code",
   "execution_count": null,
   "outputs": [],
   "source": [
    "dataset_config = DataConfig(dataset_name=\"App Data\", \n",
    "                            dataset_uri=\"./mydata.jsonlines\",\n",
    "                            model_input_jmespaths=\"data.prompt\",\n",
    "                            model_output_jmespaths=\"data.prompt_response\",\n",
    "                            target_output_jmespath=\"data.expected\")"
   ],
   "metadata": {
    "collapsed": false
   }
  },
  {
   "cell_type": "markdown",
   "metadata": {
    "collapsed": false
   },
   "source": [
    "### Step 2. Get built-in evaluation algorithm"
   ]
  },
  {
   "cell_type": "code",
   "execution_count": null,
   "metadata": {
    "ExecuteTime": {
     "start_time": "2023-09-27T14:09:09.911646Z"
    },
    "collapsed": false
   },
   "outputs": [],
   "source": [
    "eval_algo = get_eval_algo(\"Factual Knowledge\", {\"target_output_delimiter\":\"<OR>\"})"
   ]
  },
  {
   "cell_type": "markdown",
   "metadata": {
    "collapsed": false
   },
   "source": [
    "### Step 3. Run the evaluation algorithm"
   ]
  },
  {
   "cell_type": "code",
   "execution_count": null,
   "metadata": {
    "ExecuteTime": {
     "start_time": "2023-09-27T14:09:10.063045Z"
    },
    "collapsed": false
   },
   "outputs": [],
   "source": [
    "eval_output = eval_algo.evaluate(model, prompt_template, dataset_config)"
   ]
  },
  {
   "cell_type": "markdown",
   "metadata": {
    "collapsed": false
   },
   "source": [
    "### Step 4. Plot/chart the evaluation metrics"
   ]
  },
  {
   "cell_type": "code",
   "execution_count": null,
   "metadata": {
    "ExecuteTime": {
     "end_time": "2023-09-27T14:09:10.065411Z",
     "start_time": "2023-09-27T14:09:10.064521Z"
    },
    "collapsed": false
   },
   "outputs": [],
   "source": [
    "reporting.util.plot(eval_output)"
   ]
  }
 ],
 "metadata": {
  "kernelspec": {
   "display_name": "Python 3",
   "language": "python",
   "name": "python3"
  },
  "language_info": {
   "codemirror_mode": {
    "name": "ipython",
    "version": 2
   },
   "file_extension": ".py",
   "mimetype": "text/x-python",
   "name": "python",
   "nbconvert_exporter": "python",
   "pygments_lexer": "ipython2",
   "version": "2.7.6"
  }
 },
 "nbformat": 4,
 "nbformat_minor": 4
}

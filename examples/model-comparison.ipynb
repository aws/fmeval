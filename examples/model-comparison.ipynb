{
 "cells": [
  {
   "cell_type": "code",
   "execution_count": 1,
   "metadata": {},
   "outputs": [
    {
     "name": "stdout",
     "output_type": "stream",
     "text": [
      "sagemaker.config INFO - Not applying SDK defaults from location: /Library/Application Support/sagemaker/config.yaml\n",
      "sagemaker.config INFO - Not applying SDK defaults from location: /Users/schwobel/Library/Application Support/sagemaker/config.yaml\n"
     ]
    }
   ],
   "source": [
    "import pandas as pd\n",
    "import sagemaker\n",
    "from sagemaker.jumpstart.model import JumpStartModel\n",
    "import os\n",
    "import json\n",
    "import os"
   ]
  },
  {
   "cell_type": "markdown",
   "metadata": {},
   "source": [
    "**Summary: This notebooks demonstrates how to compare multiple models by plotting their evaluation results in a radar plot.**"
   ]
  },
  {
   "cell_type": "markdown",
   "metadata": {},
   "source": [
    "## 1. Prepare models\n",
    "\n",
    "We choose two models available on SageMaker JumpStart: \"huggingface-llm-falcon-7b-bf16\" and \"huggingface-llm-falcon-7b-instruct-bf16\". The two models have the same architecture, but the latter one has been additionally trained with instruction finetuning. We'll evaluate both on the QA task and see whether the additional training makes a difference. We start by defining some helper functions to deploy the models to JumpStart endpoints."
   ]
  },
  {
   "cell_type": "code",
   "execution_count": 47,
   "metadata": {},
   "outputs": [],
   "source": [
    "# Helper function to test the endpoint: \n",
    "# 1) we test that the endpoint exists and \n",
    "# 2) that we are extracting the response correcly (i.e., the `output_format` is as expected). \n",
    "# We return the output format for use in the ModelRunner later. \n",
    "def test_endpoint(predictor):\n",
    "    prompt = \"London is the capital of\"\n",
    "    payload = {\n",
    "        \"inputs\": prompt,\n",
    "        \"parameters\": {\n",
    "            \"do_sample\": True,\n",
    "            \"top_p\": 0.9,\n",
    "            \"temperature\": 0.8,\n",
    "            \"max_new_tokens\": 1024,\n",
    "            \"decoder_input_details\" : True,\n",
    "            \"details\" : True\n",
    "        },\n",
    "    }\n",
    "    response = predictor.predict(payload)\n",
    "    print(f'Query successful. \\n\\nExample: Prompt: {prompt} ... Model response: {response[0][\"generated_text\"]}')\n",
    "    output_format ='[0].generated_text' \n",
    "    return output_format \n",
    "\n",
    "# function to get existing endpoint for a model or deploy a new one if none exists \n",
    "def get_endpoint(model_id, model_version, endpoint_name=\"\"):\n",
    "    print(\"Using existing endpoint.\")\n",
    "    predictor = sagemaker.predictor.Predictor(\n",
    "        endpoint_name=endpoint_name,\n",
    "        serializer=sagemaker.serializers.JSONSerializer(),\n",
    "        deserializer = sagemaker.deserializers.JSONDeserializer()\n",
    "    )\n",
    "    try:\n",
    "        output_format = test_endpoint(predictor)\n",
    "    except: \n",
    "        print(\"No working endpoint found. Deploying a new one.\")\n",
    "        my_model = JumpStartModel(model_id=model_id, model_version=model_version)\n",
    "        predictor = my_model.deploy()\n",
    "        endpoint_name = predictor.endpoint_name\n",
    "        output_format = test_endpoint(predictor)\n",
    "    return endpoint_name, predictor, output_format"
   ]
  },
  {
   "cell_type": "code",
   "execution_count": 48,
   "metadata": {},
   "outputs": [
    {
     "name": "stdout",
     "output_type": "stream",
     "text": [
      "Using existing endpoint.\n",
      "Query successful. \n",
      " Example: Prompt: London is the capital of ... Model response:  England and the United Kingdom, and is the largest city in Western Europe. The city has an estimated population of 9.5 million people. The city of London is located in the county of Greater London in southeast England, and the city covers a total area of 1,572 square kilometres (605 square miles). London is one of the most visited cities in the world, receiving approximately 18 million tourists each year.\n",
      "London is a leading financial centre in the world, and the city is also the leading destination for business travel, international trade fairs and conferences, and in the field of arts and culture. London is home to many of the world’s most iconic sites and landmarks, including Big Ben, The Houses of Parliament, The Tower of London, and the London Eye. The city has a thriving nightlife scene, and is also home to some of the world’s most prestigious universities and colleges.\n",
      "If you are planning a trip to London, there are many things to see and do. Some of the top attractions in the city include The Tower of London, Buckingham Palace, St. Paul’s Cathedral, the London Eye, the Houses of Parliament and Big Ben, and the Tate Modern Museum. There are also many cultural sites and museums in London, such as the British Museum, the National Gallery, the National Portrait Gallery, the V&A Museum, and the London Transport Museum.\n",
      "There are many things to do in London, from shopping to sightseeing. The city is home to some of the best shopping in the world, with many high-end stores and boutiques. There are also many museums and galleries in London, including the British Museum, the National Gallery, the Tate Modern Museum, and the V&A Museum. The city is also home to some of the world’s most famous landmarks, including Big Ben, the London Eye, and the Houses of Parliament.\n",
      "If you are looking for things to do in London, you are sure to find something that suits your interests. Whether you are interested in shopping, sightseeing, or culture, there is something for everyone in London.\n",
      "What is London?\n",
      "London is the capital of England and the United Kingdom. It is located on the River Thames in the south-east of England. London is the largest city in the European Union and the most populous city in the European Union. London is one of the most visited cities in the world. London is home to many famous landmarks and attractions, including the London Eye, Buckingham Palace, and Big Ben.\n",
      "History of London\n",
      "The history of London is long and complex, with roots stretching back to the Roman Empire. The city has been continuously inhabited for over 2,000 years, and is one of the oldest cities in Europe. London has been an important political and cultural centre since the Middle Ages, and is home to some of the world’s most famous landmarks.\n",
      "London has been through many periods of growth and decline, but has always remained a thriving city. The city’s economy is now dominated by the financial and business services sectors, and London is home to some of the world’s largest financial institutions.\n",
      "The city is also a major tourist destination, with millions of visitors each year. London has a diverse population, and is home to people of all nationalities and backgrounds.\n",
      "London today\n",
      "London is one of the most popular and visited cities in the world. It is a global financial hub, with a population of over 8 million people. The city is home to some of the world’s most iconic landmarks, including the Houses of Parliament, Big Ben, and the London Eye.\n",
      "London is also a popular tourist destination, with millions of people visiting each year. The city has a rich history, and is home to some of the world’s most famous museums and galleries.\n",
      "If you’re looking for things to do in London, there are plenty of options. You can visit famous landmarks, go shopping, see a show, or enjoy a meal in one of the city’s many restaurants. There’s something for everyone in London!\n",
      "Culture in London\n",
      "London is a culturally diverse city, with a population of over 8 million people. The city is home to some of the world’s most iconic landmarks, including Big Ben, the Houses of Parliament, and the London Eye.\n",
      "London has a thriving arts scene, with many museums, galleries, and theatres. The city is also home to some of the world’s most prestigious universities and colleges.\n",
      "If you’re looking for things to do in London, there are plenty of options. You can go shopping in the city’s famous department stores, visit the many museums and galleries, or catch a show at one of the many theatres. There’s also a wide range of restaurants to choose from, so you’re sure to find something to suit your taste.\n",
      "If you’re looking for something a little different, London is also home to many festivals and events throughout the year. There’s always something going\n"
     ]
    }
   ],
   "source": [
    "model_id_base, model_version_base, endpoint_name_base = \"huggingface-llm-falcon-7b-bf16\" , \"*\", \"hf-llm-falcon-7b-bf16-2024-03-21-12-51-01-854\"\n",
    "endpoint_name_base, predictor_base, output_format_base = get_endpoint(model_id_base, model_version_base, endpoint_name_base)"
   ]
  },
  {
   "cell_type": "code",
   "execution_count": 49,
   "metadata": {},
   "outputs": [
    {
     "name": "stdout",
     "output_type": "stream",
     "text": [
      "Using existing endpoint.\n",
      "Query successful. \n",
      " Example: Prompt: London is the capital of ... Model response:  England and the United Kingdom. It's the largest city in Europe and has the largest economy in the world. London is home to many famous landmarks, such as the London Eye, Tower of London, and Big Ben. Some of the world's top universities and museums are located in London, including the British Museum and the National Gallery. It's a great place to visit if you like shopping, food, and theater.\n"
     ]
    }
   ],
   "source": [
    "model_id_instruct, model_version_instruct, endpoint_name_instruct = \"huggingface-llm-falcon-7b-instruct-bf16\" , \"*\", \"hf-llm-falcon-7b-instruct-bf16-2024-03-21-10-15-06-733\"\n",
    "endpoint_name_instruct, predictor_instruct, output_format_instruct = get_endpoint(model_id_instruct, model_version_instruct, endpoint_name=endpoint_name_instruct)"
   ]
  },
  {
   "cell_type": "markdown",
   "metadata": {},
   "source": [
    "## 2. Run the evaluation\n",
    "\n",
    "Next, we run the QA Accuracy evaluation. "
   ]
  },
  {
   "cell_type": "code",
   "execution_count": 50,
   "metadata": {},
   "outputs": [],
   "source": [
    "from fmeval.eval_algorithms.qa_accuracy import QAAccuracy, QAAccuracyConfig\n",
    "from fmeval.model_runners.sm_jumpstart_model_runner import JumpStartModelRunner"
   ]
  },
  {
   "cell_type": "code",
   "execution_count": 51,
   "metadata": {},
   "outputs": [
    {
     "name": "stderr",
     "output_type": "stream",
     "text": [
      "Using model 'huggingface-llm-falcon-7b-bf16' with wildcard version identifier '*'. You can pin to version '2.2.2' for more stable results. Note that models may have different input/output signatures after a major version upgrade.\n",
      "Using model 'huggingface-llm-falcon-7b-bf16' with wildcard version identifier '*'. You can pin to version '2.2.2' for more stable results. Note that models may have different input/output signatures after a major version upgrade.\n"
     ]
    }
   ],
   "source": [
    "model_runner_base = JumpStartModelRunner(\n",
    "    endpoint_name=endpoint_name_base,\n",
    "    model_id=model_id_base,\n",
    "    model_version=model_version_base,\n",
    "    output=output_format_base, # you can test whether this is correct using the \n",
    "    content_template='{\"inputs\": $prompt, \"parameters\": {\"do_sample\": true, \"top_p\": 0.9, \"temperature\": 0.8, \"max_new_tokens\": 1024, \"decoder_input_details\": true,\"details\": true}}',\n",
    ")\n",
    "\n",
    "model_runner_instruct = JumpStartModelRunner(\n",
    "    endpoint_name=endpoint_name_instruct,\n",
    "    model_id=model_id_base,\n",
    "    model_version=model_version_instruct,\n",
    "    output=output_format_instruct, # you can test whether this is correct using the \n",
    "    content_template='{\"inputs\": $prompt, \"parameters\": {\"do_sample\": true, \"top_p\": 0.9, \"temperature\": 0.8, \"max_new_tokens\": 1024, \"decoder_input_details\": true,\"details\": true}}',\n",
    ")"
   ]
  },
  {
   "cell_type": "code",
   "execution_count": 52,
   "metadata": {},
   "outputs": [],
   "source": [
    "# helper to configure and run evaluation\n",
    "def run_eval(model, model_name):\n",
    "    # configure eval (use default)\n",
    "    default_config = QAAccuracyConfig()\n",
    "    qa_eval = QAAccuracy(default_config)\n",
    "    \n",
    "    # configure filepath\n",
    "    results_path = f\"example_results/{model_name}.json\"\n",
    "    \n",
    "    # load results from file if the eval has already been run\n",
    "    if os.path.exists(results_path):\n",
    "        with open(results_path, 'r') as f:\n",
    "            results = json.load(f)\n",
    "            print(f'Results loaded from {results_path}')\n",
    "            \n",
    "    # otherwise run the eval and save the results to a file        \n",
    "    else:\n",
    "        results = qa_eval.evaluate(model = model, save=True, num_records=5)\n",
    "        with open(results_path, 'w') as f:\n",
    "            json.dump(results, f, default=lambda c: c.__dict__)\n",
    "            print(f'Results saved to {results_path}')\n",
    "    return results                "
   ]
  },
  {
   "cell_type": "markdown",
   "metadata": {},
   "source": [
    "Note that we have precomputed some evaluations so this notebook can be executed more quickly. If the precomputed files don't exist (e.g., because you are using other models), the evaluation is run."
   ]
  },
  {
   "cell_type": "code",
   "execution_count": 13,
   "metadata": {},
   "outputs": [
    {
     "name": "stdout",
     "output_type": "stream",
     "text": [
      "Results loaded from example_results/huggingface-llm-falcon-7b-bf16.json\n"
     ]
    }
   ],
   "source": [
    "results_qa_base = run_eval(model_runner_base, model_id_base)"
   ]
  },
  {
   "cell_type": "code",
   "execution_count": 15,
   "metadata": {},
   "outputs": [
    {
     "name": "stdout",
     "output_type": "stream",
     "text": [
      "Results loaded from example_results/huggingface-llm-falcon-7b-instruct-bf16.json\n"
     ]
    }
   ],
   "source": [
    "results_qa_instruct = run_eval(model_runner_instruct, model_id_instruct)"
   ]
  },
  {
   "cell_type": "markdown",
   "metadata": {},
   "source": [
    "## 3. Visualize results"
   ]
  },
  {
   "cell_type": "markdown",
   "metadata": {},
   "source": [
    "We load the results and visualize them as radar plots."
   ]
  },
  {
   "cell_type": "code",
   "execution_count": 16,
   "metadata": {},
   "outputs": [
    {
     "name": "stdout",
     "output_type": "stream",
     "text": [
      "Requirement already satisfied: kaleido in /Users/schwobel/anaconda3/envs/fmeval_env/lib/python3.10/site-packages (0.2.1)\n",
      "Requirement already satisfied: plotly in /Users/schwobel/anaconda3/envs/fmeval_env/lib/python3.10/site-packages (5.18.0)\n",
      "Requirement already satisfied: tenacity>=6.2.0 in /Users/schwobel/anaconda3/envs/fmeval_env/lib/python3.10/site-packages (from plotly) (8.2.3)\n",
      "Requirement already satisfied: packaging in /Users/schwobel/anaconda3/envs/fmeval_env/lib/python3.10/site-packages (from plotly) (23.2)\n"
     ]
    }
   ],
   "source": [
    "# install packages needed for plotting\n",
    "! pip install -U kaleido\n",
    "! pip install plotly"
   ]
  },
  {
   "cell_type": "code",
   "execution_count": 17,
   "metadata": {},
   "outputs": [],
   "source": [
    "import plotly.express as px"
   ]
  },
  {
   "cell_type": "code",
   "execution_count": 25,
   "metadata": {},
   "outputs": [],
   "source": [
    "# code for loading the results\n",
    "def load_results(models):\n",
    "    accuracy_results = []\n",
    "    for model in models:\n",
    "        file = f'example_results/{model}.json'\n",
    "        with open(file, 'r') as f:\n",
    "            res = json.load(f)\n",
    "            for accuracy_eval in res['accuracy']:\n",
    "                for accuracy_scores in accuracy_eval[\"dataset_scores\"]:\n",
    "                    accuracy_results.append(\n",
    "                        {'model': model, 'evaluation': 'accuracy', 'dataset': accuracy_eval[\"dataset_name\"],\n",
    "                         'metric': accuracy_scores[\"name\"], 'value': accuracy_scores[\"value\"]})\n",
    "        \n",
    "    accuracy_results_df = pd.DataFrame(accuracy_results)\n",
    "    return accuracy_results_df"
   ]
  },
  {
   "cell_type": "code",
   "execution_count": 67,
   "metadata": {},
   "outputs": [],
   "source": [
    "# code for plotting the results\n",
    "def visualize_radar(results_df, dataset):\n",
    "    # aggregate 3 datasets into 1 by taking mean across datasets\n",
    "    if dataset == 'all':\n",
    "       mean_across_datasets = results_df.drop('evaluation', axis=1).groupby(['model', 'metric']).describe()['value']['mean']\n",
    "       results_df = pd.DataFrame(mean_across_datasets).reset_index().rename({'mean':'value'}, axis=1)\n",
    "    # plot a single dataset\n",
    "    else:\n",
    "        results_df = results_df[results_df['dataset'] == dataset]\n",
    "    \n",
    "    fig = px.line_polar(results_df, r='value', theta='metric', color='model', line_close=True) \n",
    "    xlim = 1\n",
    "    fig.update_layout(\n",
    "        polar=dict(\n",
    "            radialaxis=dict(\n",
    "            visible=True,\n",
    "            range=[0, xlim],\n",
    "            )),\n",
    "        margin=dict(l=150, r=0, t=100, b=80)\n",
    "    )\n",
    "\n",
    "    \n",
    "    title =  'Average Performance over 3 QA Datasets' if dataset == 'all' else dataset\n",
    "    fig.update_layout(\n",
    "            title=dict(text=title, font=dict(size=20), yref='container')\n",
    "        )\n",
    "    \n",
    "    directory = \"example_results\"\n",
    "    fig.show()\n",
    "    fig.write_image(f\"{directory}/radarplot.pdf\")"
   ]
  },
  {
   "cell_type": "code",
   "execution_count": 70,
   "metadata": {},
   "outputs": [
    {
     "data": {
      "application/vnd.plotly.v1+json": {
       "config": {
        "plotlyServerURL": "https://plot.ly"
       },
       "data": [
        {
         "hovertemplate": "model=huggingface-llm-falcon-7b-bf16<br>value=%{r}<br>metric=%{theta}<extra></extra>",
         "legendgroup": "huggingface-llm-falcon-7b-bf16",
         "line": {
          "color": "#636efa",
          "dash": "solid"
         },
         "marker": {
          "symbol": "circle"
         },
         "mode": "lines",
         "name": "huggingface-llm-falcon-7b-bf16",
         "r": [
          0,
          0.04681065264053738,
          0.027263794787494865,
          0,
          0.5805500641510211,
          0
         ],
         "showlegend": true,
         "subplot": "polar",
         "theta": [
          "exact_match_score",
          "f1_score",
          "precision_over_words",
          "quasi_exact_match_score",
          "recall_over_words",
          "exact_match_score"
         ],
         "type": "scatterpolar"
        },
        {
         "hovertemplate": "model=huggingface-llm-falcon-7b-instruct-bf16<br>value=%{r}<br>metric=%{theta}<extra></extra>",
         "legendgroup": "huggingface-llm-falcon-7b-instruct-bf16",
         "line": {
          "color": "#EF553B",
          "dash": "solid"
         },
         "marker": {
          "symbol": "circle"
         },
         "mode": "lines",
         "name": "huggingface-llm-falcon-7b-instruct-bf16",
         "r": [
          0.043333333333333335,
          0.3005850183193019,
          0.26639308301490966,
          0.04666666666666667,
          0.4697939558484249,
          0.043333333333333335
         ],
         "showlegend": true,
         "subplot": "polar",
         "theta": [
          "exact_match_score",
          "f1_score",
          "precision_over_words",
          "quasi_exact_match_score",
          "recall_over_words",
          "exact_match_score"
         ],
         "type": "scatterpolar"
        }
       ],
       "layout": {
        "legend": {
         "title": {
          "text": "model"
         },
         "tracegroupgap": 0
        },
        "margin": {
         "b": 80,
         "l": 150,
         "r": 0,
         "t": 100
        },
        "polar": {
         "angularaxis": {
          "direction": "clockwise",
          "rotation": 90
         },
         "domain": {
          "x": [
           0,
           1
          ],
          "y": [
           0,
           1
          ]
         },
         "radialaxis": {
          "range": [
           0,
           1
          ],
          "visible": true
         }
        },
        "template": {
         "data": {
          "bar": [
           {
            "error_x": {
             "color": "#2a3f5f"
            },
            "error_y": {
             "color": "#2a3f5f"
            },
            "marker": {
             "line": {
              "color": "#E5ECF6",
              "width": 0.5
             },
             "pattern": {
              "fillmode": "overlay",
              "size": 10,
              "solidity": 0.2
             }
            },
            "type": "bar"
           }
          ],
          "barpolar": [
           {
            "marker": {
             "line": {
              "color": "#E5ECF6",
              "width": 0.5
             },
             "pattern": {
              "fillmode": "overlay",
              "size": 10,
              "solidity": 0.2
             }
            },
            "type": "barpolar"
           }
          ],
          "carpet": [
           {
            "aaxis": {
             "endlinecolor": "#2a3f5f",
             "gridcolor": "white",
             "linecolor": "white",
             "minorgridcolor": "white",
             "startlinecolor": "#2a3f5f"
            },
            "baxis": {
             "endlinecolor": "#2a3f5f",
             "gridcolor": "white",
             "linecolor": "white",
             "minorgridcolor": "white",
             "startlinecolor": "#2a3f5f"
            },
            "type": "carpet"
           }
          ],
          "choropleth": [
           {
            "colorbar": {
             "outlinewidth": 0,
             "ticks": ""
            },
            "type": "choropleth"
           }
          ],
          "contour": [
           {
            "colorbar": {
             "outlinewidth": 0,
             "ticks": ""
            },
            "colorscale": [
             [
              0,
              "#0d0887"
             ],
             [
              0.1111111111111111,
              "#46039f"
             ],
             [
              0.2222222222222222,
              "#7201a8"
             ],
             [
              0.3333333333333333,
              "#9c179e"
             ],
             [
              0.4444444444444444,
              "#bd3786"
             ],
             [
              0.5555555555555556,
              "#d8576b"
             ],
             [
              0.6666666666666666,
              "#ed7953"
             ],
             [
              0.7777777777777778,
              "#fb9f3a"
             ],
             [
              0.8888888888888888,
              "#fdca26"
             ],
             [
              1,
              "#f0f921"
             ]
            ],
            "type": "contour"
           }
          ],
          "contourcarpet": [
           {
            "colorbar": {
             "outlinewidth": 0,
             "ticks": ""
            },
            "type": "contourcarpet"
           }
          ],
          "heatmap": [
           {
            "colorbar": {
             "outlinewidth": 0,
             "ticks": ""
            },
            "colorscale": [
             [
              0,
              "#0d0887"
             ],
             [
              0.1111111111111111,
              "#46039f"
             ],
             [
              0.2222222222222222,
              "#7201a8"
             ],
             [
              0.3333333333333333,
              "#9c179e"
             ],
             [
              0.4444444444444444,
              "#bd3786"
             ],
             [
              0.5555555555555556,
              "#d8576b"
             ],
             [
              0.6666666666666666,
              "#ed7953"
             ],
             [
              0.7777777777777778,
              "#fb9f3a"
             ],
             [
              0.8888888888888888,
              "#fdca26"
             ],
             [
              1,
              "#f0f921"
             ]
            ],
            "type": "heatmap"
           }
          ],
          "heatmapgl": [
           {
            "colorbar": {
             "outlinewidth": 0,
             "ticks": ""
            },
            "colorscale": [
             [
              0,
              "#0d0887"
             ],
             [
              0.1111111111111111,
              "#46039f"
             ],
             [
              0.2222222222222222,
              "#7201a8"
             ],
             [
              0.3333333333333333,
              "#9c179e"
             ],
             [
              0.4444444444444444,
              "#bd3786"
             ],
             [
              0.5555555555555556,
              "#d8576b"
             ],
             [
              0.6666666666666666,
              "#ed7953"
             ],
             [
              0.7777777777777778,
              "#fb9f3a"
             ],
             [
              0.8888888888888888,
              "#fdca26"
             ],
             [
              1,
              "#f0f921"
             ]
            ],
            "type": "heatmapgl"
           }
          ],
          "histogram": [
           {
            "marker": {
             "pattern": {
              "fillmode": "overlay",
              "size": 10,
              "solidity": 0.2
             }
            },
            "type": "histogram"
           }
          ],
          "histogram2d": [
           {
            "colorbar": {
             "outlinewidth": 0,
             "ticks": ""
            },
            "colorscale": [
             [
              0,
              "#0d0887"
             ],
             [
              0.1111111111111111,
              "#46039f"
             ],
             [
              0.2222222222222222,
              "#7201a8"
             ],
             [
              0.3333333333333333,
              "#9c179e"
             ],
             [
              0.4444444444444444,
              "#bd3786"
             ],
             [
              0.5555555555555556,
              "#d8576b"
             ],
             [
              0.6666666666666666,
              "#ed7953"
             ],
             [
              0.7777777777777778,
              "#fb9f3a"
             ],
             [
              0.8888888888888888,
              "#fdca26"
             ],
             [
              1,
              "#f0f921"
             ]
            ],
            "type": "histogram2d"
           }
          ],
          "histogram2dcontour": [
           {
            "colorbar": {
             "outlinewidth": 0,
             "ticks": ""
            },
            "colorscale": [
             [
              0,
              "#0d0887"
             ],
             [
              0.1111111111111111,
              "#46039f"
             ],
             [
              0.2222222222222222,
              "#7201a8"
             ],
             [
              0.3333333333333333,
              "#9c179e"
             ],
             [
              0.4444444444444444,
              "#bd3786"
             ],
             [
              0.5555555555555556,
              "#d8576b"
             ],
             [
              0.6666666666666666,
              "#ed7953"
             ],
             [
              0.7777777777777778,
              "#fb9f3a"
             ],
             [
              0.8888888888888888,
              "#fdca26"
             ],
             [
              1,
              "#f0f921"
             ]
            ],
            "type": "histogram2dcontour"
           }
          ],
          "mesh3d": [
           {
            "colorbar": {
             "outlinewidth": 0,
             "ticks": ""
            },
            "type": "mesh3d"
           }
          ],
          "parcoords": [
           {
            "line": {
             "colorbar": {
              "outlinewidth": 0,
              "ticks": ""
             }
            },
            "type": "parcoords"
           }
          ],
          "pie": [
           {
            "automargin": true,
            "type": "pie"
           }
          ],
          "scatter": [
           {
            "fillpattern": {
             "fillmode": "overlay",
             "size": 10,
             "solidity": 0.2
            },
            "type": "scatter"
           }
          ],
          "scatter3d": [
           {
            "line": {
             "colorbar": {
              "outlinewidth": 0,
              "ticks": ""
             }
            },
            "marker": {
             "colorbar": {
              "outlinewidth": 0,
              "ticks": ""
             }
            },
            "type": "scatter3d"
           }
          ],
          "scattercarpet": [
           {
            "marker": {
             "colorbar": {
              "outlinewidth": 0,
              "ticks": ""
             }
            },
            "type": "scattercarpet"
           }
          ],
          "scattergeo": [
           {
            "marker": {
             "colorbar": {
              "outlinewidth": 0,
              "ticks": ""
             }
            },
            "type": "scattergeo"
           }
          ],
          "scattergl": [
           {
            "marker": {
             "colorbar": {
              "outlinewidth": 0,
              "ticks": ""
             }
            },
            "type": "scattergl"
           }
          ],
          "scattermapbox": [
           {
            "marker": {
             "colorbar": {
              "outlinewidth": 0,
              "ticks": ""
             }
            },
            "type": "scattermapbox"
           }
          ],
          "scatterpolar": [
           {
            "marker": {
             "colorbar": {
              "outlinewidth": 0,
              "ticks": ""
             }
            },
            "type": "scatterpolar"
           }
          ],
          "scatterpolargl": [
           {
            "marker": {
             "colorbar": {
              "outlinewidth": 0,
              "ticks": ""
             }
            },
            "type": "scatterpolargl"
           }
          ],
          "scatterternary": [
           {
            "marker": {
             "colorbar": {
              "outlinewidth": 0,
              "ticks": ""
             }
            },
            "type": "scatterternary"
           }
          ],
          "surface": [
           {
            "colorbar": {
             "outlinewidth": 0,
             "ticks": ""
            },
            "colorscale": [
             [
              0,
              "#0d0887"
             ],
             [
              0.1111111111111111,
              "#46039f"
             ],
             [
              0.2222222222222222,
              "#7201a8"
             ],
             [
              0.3333333333333333,
              "#9c179e"
             ],
             [
              0.4444444444444444,
              "#bd3786"
             ],
             [
              0.5555555555555556,
              "#d8576b"
             ],
             [
              0.6666666666666666,
              "#ed7953"
             ],
             [
              0.7777777777777778,
              "#fb9f3a"
             ],
             [
              0.8888888888888888,
              "#fdca26"
             ],
             [
              1,
              "#f0f921"
             ]
            ],
            "type": "surface"
           }
          ],
          "table": [
           {
            "cells": {
             "fill": {
              "color": "#EBF0F8"
             },
             "line": {
              "color": "white"
             }
            },
            "header": {
             "fill": {
              "color": "#C8D4E3"
             },
             "line": {
              "color": "white"
             }
            },
            "type": "table"
           }
          ]
         },
         "layout": {
          "annotationdefaults": {
           "arrowcolor": "#2a3f5f",
           "arrowhead": 0,
           "arrowwidth": 1
          },
          "autotypenumbers": "strict",
          "coloraxis": {
           "colorbar": {
            "outlinewidth": 0,
            "ticks": ""
           }
          },
          "colorscale": {
           "diverging": [
            [
             0,
             "#8e0152"
            ],
            [
             0.1,
             "#c51b7d"
            ],
            [
             0.2,
             "#de77ae"
            ],
            [
             0.3,
             "#f1b6da"
            ],
            [
             0.4,
             "#fde0ef"
            ],
            [
             0.5,
             "#f7f7f7"
            ],
            [
             0.6,
             "#e6f5d0"
            ],
            [
             0.7,
             "#b8e186"
            ],
            [
             0.8,
             "#7fbc41"
            ],
            [
             0.9,
             "#4d9221"
            ],
            [
             1,
             "#276419"
            ]
           ],
           "sequential": [
            [
             0,
             "#0d0887"
            ],
            [
             0.1111111111111111,
             "#46039f"
            ],
            [
             0.2222222222222222,
             "#7201a8"
            ],
            [
             0.3333333333333333,
             "#9c179e"
            ],
            [
             0.4444444444444444,
             "#bd3786"
            ],
            [
             0.5555555555555556,
             "#d8576b"
            ],
            [
             0.6666666666666666,
             "#ed7953"
            ],
            [
             0.7777777777777778,
             "#fb9f3a"
            ],
            [
             0.8888888888888888,
             "#fdca26"
            ],
            [
             1,
             "#f0f921"
            ]
           ],
           "sequentialminus": [
            [
             0,
             "#0d0887"
            ],
            [
             0.1111111111111111,
             "#46039f"
            ],
            [
             0.2222222222222222,
             "#7201a8"
            ],
            [
             0.3333333333333333,
             "#9c179e"
            ],
            [
             0.4444444444444444,
             "#bd3786"
            ],
            [
             0.5555555555555556,
             "#d8576b"
            ],
            [
             0.6666666666666666,
             "#ed7953"
            ],
            [
             0.7777777777777778,
             "#fb9f3a"
            ],
            [
             0.8888888888888888,
             "#fdca26"
            ],
            [
             1,
             "#f0f921"
            ]
           ]
          },
          "colorway": [
           "#636efa",
           "#EF553B",
           "#00cc96",
           "#ab63fa",
           "#FFA15A",
           "#19d3f3",
           "#FF6692",
           "#B6E880",
           "#FF97FF",
           "#FECB52"
          ],
          "font": {
           "color": "#2a3f5f"
          },
          "geo": {
           "bgcolor": "white",
           "lakecolor": "white",
           "landcolor": "#E5ECF6",
           "showlakes": true,
           "showland": true,
           "subunitcolor": "white"
          },
          "hoverlabel": {
           "align": "left"
          },
          "hovermode": "closest",
          "mapbox": {
           "style": "light"
          },
          "paper_bgcolor": "white",
          "plot_bgcolor": "#E5ECF6",
          "polar": {
           "angularaxis": {
            "gridcolor": "white",
            "linecolor": "white",
            "ticks": ""
           },
           "bgcolor": "#E5ECF6",
           "radialaxis": {
            "gridcolor": "white",
            "linecolor": "white",
            "ticks": ""
           }
          },
          "scene": {
           "xaxis": {
            "backgroundcolor": "#E5ECF6",
            "gridcolor": "white",
            "gridwidth": 2,
            "linecolor": "white",
            "showbackground": true,
            "ticks": "",
            "zerolinecolor": "white"
           },
           "yaxis": {
            "backgroundcolor": "#E5ECF6",
            "gridcolor": "white",
            "gridwidth": 2,
            "linecolor": "white",
            "showbackground": true,
            "ticks": "",
            "zerolinecolor": "white"
           },
           "zaxis": {
            "backgroundcolor": "#E5ECF6",
            "gridcolor": "white",
            "gridwidth": 2,
            "linecolor": "white",
            "showbackground": true,
            "ticks": "",
            "zerolinecolor": "white"
           }
          },
          "shapedefaults": {
           "line": {
            "color": "#2a3f5f"
           }
          },
          "ternary": {
           "aaxis": {
            "gridcolor": "white",
            "linecolor": "white",
            "ticks": ""
           },
           "baxis": {
            "gridcolor": "white",
            "linecolor": "white",
            "ticks": ""
           },
           "bgcolor": "#E5ECF6",
           "caxis": {
            "gridcolor": "white",
            "linecolor": "white",
            "ticks": ""
           }
          },
          "title": {
           "x": 0.05
          },
          "xaxis": {
           "automargin": true,
           "gridcolor": "white",
           "linecolor": "white",
           "ticks": "",
           "title": {
            "standoff": 15
           },
           "zerolinecolor": "white",
           "zerolinewidth": 2
          },
          "yaxis": {
           "automargin": true,
           "gridcolor": "white",
           "linecolor": "white",
           "ticks": "",
           "title": {
            "standoff": 15
           },
           "zerolinecolor": "white",
           "zerolinewidth": 2
          }
         }
        },
        "title": {
         "font": {
          "size": 20
         },
         "text": "Average Performance over 3 QA Datasets",
         "yref": "container"
        }
       }
      }
     },
     "metadata": {},
     "output_type": "display_data"
    }
   ],
   "source": [
    "models = [model_id_base, model_id_instruct]\n",
    "results_df = load_results(models)\n",
    "visualize_radar(results_df, dataset='all')"
   ]
  },
  {
   "cell_type": "markdown",
   "metadata": {},
   "source": [
    "The instruction-finetuned model (in red) outperforms the non-finetuned model on most metrics. "
   ]
  }
 ],
 "metadata": {
  "kernelspec": {
   "display_name": "fmeval_env",
   "language": "python",
   "name": "python3"
  },
  "language_info": {
   "codemirror_mode": {
    "name": "ipython",
    "version": 3
   },
   "file_extension": ".py",
   "mimetype": "text/x-python",
   "name": "python",
   "nbconvert_exporter": "python",
   "pygments_lexer": "ipython3",
   "version": "3.10.13"
  }
 },
 "nbformat": 4,
 "nbformat_minor": 2
}
